{
 "cells": [
  {
   "cell_type": "code",
   "execution_count": 1,
   "id": "c7b76baf-1438-451e-a123-deaecfac3018",
   "metadata": {},
   "outputs": [],
   "source": [
    "from my_message import MyMessage\n",
    "from encrypted_my_message import EncryptedMyMessage"
   ]
  },
  {
   "cell_type": "code",
   "execution_count": 2,
   "id": "cb2e36a5-2b9d-4190-8459-e6b758049f47",
   "metadata": {},
   "outputs": [],
   "source": [
    "def dumpStuff(obj):\n",
    "  for attr in dir(obj):\n",
    "    print(\"obj.%s = %r\" % (attr, getattr(obj, attr)))"
   ]
  },
  {
   "cell_type": "code",
   "execution_count": 3,
   "id": "8c5c490d-9df9-4a8f-b345-5b3ab504f4c7",
   "metadata": {},
   "outputs": [
    {
     "data": {
      "text/plain": [
       "<encrypted_my_message.EncryptedMyMessage at 0x1e196f466d0>"
      ]
     },
     "execution_count": 3,
     "metadata": {},
     "output_type": "execute_result"
    }
   ],
   "source": [
    "etest, etest2 = EncryptedMyMessage(), EncryptedMyMessage()\n",
    "etest"
   ]
  },
  {
   "cell_type": "code",
   "execution_count": 4,
   "id": "bc146101-fa66-4527-a1fc-fcc5b86180de",
   "metadata": {},
   "outputs": [
    {
     "data": {
      "text/plain": [
       "<my_message.MyMessage at 0x1e1971f3910>"
      ]
     },
     "execution_count": 4,
     "metadata": {},
     "output_type": "execute_result"
    }
   ],
   "source": [
    "test, test2 = MyMessage(), MyMessage()\n",
    "test"
   ]
  },
  {
   "cell_type": "code",
   "execution_count": 5,
   "id": "6c16abed-ffc4-40ac-9d60-7031079142bf",
   "metadata": {},
   "outputs": [
    {
     "data": {
      "text/plain": [
       "{'etest': [], 'etest2': []}"
      ]
     },
     "execution_count": 5,
     "metadata": {},
     "output_type": "execute_result"
    }
   ],
   "source": [
    "messageList : dict = {}\n",
    "messageList[\"etest\"] = []\n",
    "messageList[\"etest2\"] = []\n",
    "messageList"
   ]
  },
  {
   "cell_type": "code",
   "execution_count": 18,
   "id": "8a6a9e8c-51c8-4290-a9fa-5773e760d27e",
   "metadata": {},
   "outputs": [
    {
     "name": "stdout",
     "output_type": "stream",
     "text": [
      "current message size32codeutf-8;\n",
      "current message lmf size128codeutf-8;encryptAES;\n",
      "current message b\"\\xfbB\\xbf\\xd9YK\\x95\\x84\\xe9k\\xe7\\xcd\\x11\\xb1o\\xe8\\xc6\\xe5^\\xa8\\xb9{\\x05^\\x88ML\\xae\\x1f\\x93\\xbe\\x0e'\\x89\\xc5\\x92Y[A\\xfb\\xe2\\x93\\xc2I\\x17\\x17\\x04(\\x11\\xca1\\xa9\\x85\\xb65\\xf4\\xce\\x1fv\\xacf,+\\xe0\\xef\\x7f\\x92(\\x9aK^\\xb5\\r\\x07$\\xd1{\\x9f\\x00j\\xfcM\\xcf}5\\xffm\\xdc\\xb7%\\x88C\\xb7\\xba\\xfa=/\\x92\\x1c\\x11#\\xa4\\xa5]\\xd2\\x04Y\\\\kv\\xf2\\x83R\\x07\\xc04\\xd3\\x88\\x99SO\\xfb!\\xc3\\xed\\xfbl\\xff\"\n"
     ]
    }
   ],
   "source": [
    "for message in etest.send():\n",
    "    messageList[\"etest\"].append(message)\n",
    "    etest2.recv(message)\n",
    "    print(\"current message\", message)"
   ]
  },
  {
   "cell_type": "code",
   "execution_count": 19,
   "id": "9f94bc07-7158-4ef7-a0cd-32f35bbcdbb4",
   "metadata": {},
   "outputs": [
    {
     "name": "stdout",
     "output_type": "stream",
     "text": [
      "current message size32codeutf-8;\n",
      "current message lmf size128codeutf-8;encryptAES;\n",
      "Recieved reply from echo with message \"helloWorld\"\n",
      "current message b'@\\xec\\x9c\\xabE\\xb7\\xb0\\xeft\\x90\\x1b\\xefsGg\\x97\\xbfG\\xb9\\x87cHJ%\\xd0\\x90\\xda\\xa2Di\\x9e\\xbf\\x03Z\\x03\\x91\\xd7\\xd4fnA\\x8b\\x03\\x83\\x8b\\x05\\xf2\\xdb\\xf6zv\\x01R\\xb1\\x1f\\x8e\\xe3>\\xe0\\xcd\\xdcT]\\xf7\\x96!q\\x06\\x88\\xe1@\\x86\\x01\\x89;*|\\xea\\xb2i(\\x8b\\xd7\\xf5O]\\x1e1\\x84>\\xfc\\xb7\\xf1zJ.^*t\\xb0R8\\x1fs\\x1c\\xad\\x1b\"\\x01\\x02\\xb6\\r\\xae\\xee\\xe3\\xfb\\xfd@\\x1e\\x13\\xfb&n\\x05h\\x0e\\xc6r'\n"
     ]
    }
   ],
   "source": [
    "for message in etest2.send():\n",
    "    messageList[\"etest2\"].append(message)\n",
    "    etest.recv(message)\n",
    "    print(\"current message\", message)"
   ]
  },
  {
   "cell_type": "code",
   "execution_count": 17,
   "id": "e97d95d6-fd53-4e61-95a7-2a6eb9f8a2d6",
   "metadata": {},
   "outputs": [],
   "source": [
    "etest.echo(\"helloWorld\")"
   ]
  },
  {
   "cell_type": "code",
   "execution_count": 12,
   "id": "630417a7-6539-4af2-9a33-e1758cd9a8bf",
   "metadata": {},
   "outputs": [
    {
     "name": "stdout",
     "output_type": "stream",
     "text": [
      "obj._AESKESIZE = 32\n",
      "obj._ENCODINGMESSAGEENCODING = 'utf-8'\n",
      "obj._ENCODINGMESSAGESIZE = 20\n",
      "obj._EncryptedMyMessage__aesKey = None\n",
      "obj._EncryptedMyMessage__recieveKey = PrivateKey(117515075442669097688705673707604599711715681428542164380896398733961802784418104942099086043730676154169547071015885482121674956222540185994589138117057922852144104408623439442353071020723915217466527973477115474425351874429991496048869555926553747210243808374342279188133462364765909548546895450088668518113, 65537, 61182719519955327253861578842137671037176721028171676928156095353792677003938693543027036863117542778223280217436456177967768911931722442075794961139606184853430411328271296982019905078384655187832549783581848079916520701901336248598259989374374464487085928246802739696992309483952910915088598412648319330533, 47287176895427998594253110748760438142231544399975331715439367165556793595732205051014250097237751396323804171905850644624171405776978666867328417744244341144872511, 2485136207275489603648588818983379740432864277820873483605062844595852165685203428011047402740438450705879194055461717519912982189681474117122783)\n",
      "obj._EncryptedMyMessage__sendKey = PublicKey(132329699600583231618303826449376654152922833738159655871034889920713402050799704486214738071827098134216360251597004336990886348130904138041548965752290504861811684689155692042618681839124680038119701846153216169696790711788807031242020167224462198979490119416423827222151283328718613228346325151485990180301, 65537)\n",
      "obj._MyMessage__commandConvertToEcho = <bound method MyMessage.__commandConvertToEcho of <encrypted_my_message.EncryptedMyMessage object at 0x000002E160584390>>\n",
      "obj._MyMessage__getCallableOnly = <bound method MyMessage.__getCallableOnly of <encrypted_my_message.EncryptedMyMessage object at 0x000002E160584390>>\n",
      "obj._MyMessage__getNewInstanceID = <bound method MyMessage.__getNewInstanceID of <encrypted_my_message.EncryptedMyMessage object at 0x000002E160584390>>\n",
      "obj._MyMessage__instanceCount = 4\n",
      "obj._MyMessage__instanceID = 0\n",
      "obj._MyMessage__instanceIDs = {0: <encrypted_my_message.EncryptedMyMessage object at 0x000002E160584390>, 1: <encrypted_my_message.EncryptedMyMessage object at 0x000002E15E96BFD0>, 2: <my_message.MyMessage object at 0x000002E160710A10>, 3: <my_message.MyMessage object at 0x000002E1607114D0>}\n",
      "obj._MyMessage__removeInstanceID = <bound method MyMessage.__removeInstanceID of <encrypted_my_message.EncryptedMyMessage object at 0x000002E160584390>>\n",
      "obj._RESKEYSIZE = 1024\n",
      "obj.__annotations__ = {'_MyMessage__instanceCount': <class 'int'>, '_MyMessage__instanceIDs': <class 'dict'>}\n",
      "obj.__class__ = <class 'encrypted_my_message.EncryptedMyMessage'>\n",
      "obj.__del__ = <bound method MyMessage.__del__ of <encrypted_my_message.EncryptedMyMessage object at 0x000002E160584390>>\n",
      "obj.__delattr__ = <method-wrapper '__delattr__' of EncryptedMyMessage object at 0x000002E160584390>\n",
      "obj.__dict__ = {'_nextMessageEncryptionType': None, '_EncryptedMyMessage__sendKey': PublicKey(132329699600583231618303826449376654152922833738159655871034889920713402050799704486214738071827098134216360251597004336990886348130904138041548965752290504861811684689155692042618681839124680038119701846153216169696790711788807031242020167224462198979490119416423827222151283328718613228346325151485990180301, 65537), '_EncryptedMyMessage__recieveKey': PrivateKey(117515075442669097688705673707604599711715681428542164380896398733961802784418104942099086043730676154169547071015885482121674956222540185994589138117057922852144104408623439442353071020723915217466527973477115474425351874429991496048869555926553747210243808374342279188133462364765909548546895450088668518113, 65537, 61182719519955327253861578842137671037176721028171676928156095353792677003938693543027036863117542778223280217436456177967768911931722442075794961139606184853430411328271296982019905078384655187832549783581848079916520701901336248598259989374374464487085928246802739696992309483952910915088598412648319330533, 47287176895427998594253110748760438142231544399975331715439367165556793595732205051014250097237751396323804171905850644624171405776978666867328417744244341144872511, 2485136207275489603648588818983379740432864277820873483605062844595852165685203428011047402740438450705879194055461717519912982189681474117122783), '_EncryptedMyMessage__aesKey': None, '_isBoss': {'currentBossNumber': 718, 'recievedBossNumber': 559, 'isBoss': True}, '_MyMessage__instanceID': 0, '_logger': <Logger myMessage0 (WARNING)>, '_eventsDictionary': {}, '_commandQue': [], '_commandIDs': {0: <command.Command object at 0x000002E160204A90>}, '_currentMessageSize': 0, '_currentMessageEncoding': ''}\n",
      "obj.__dir__ = <built-in method __dir__ of EncryptedMyMessage object at 0x000002E160584390>\n",
      "obj.__doc__ = None\n",
      "obj.__eq__ = <method-wrapper '__eq__' of EncryptedMyMessage object at 0x000002E160584390>\n",
      "obj.__format__ = <built-in method __format__ of EncryptedMyMessage object at 0x000002E160584390>\n",
      "obj.__ge__ = <method-wrapper '__ge__' of EncryptedMyMessage object at 0x000002E160584390>\n",
      "obj.__getattribute__ = <method-wrapper '__getattribute__' of EncryptedMyMessage object at 0x000002E160584390>\n",
      "obj.__getstate__ = <built-in method __getstate__ of EncryptedMyMessage object at 0x000002E160584390>\n",
      "obj.__gt__ = <method-wrapper '__gt__' of EncryptedMyMessage object at 0x000002E160584390>\n",
      "obj.__hash__ = <method-wrapper '__hash__' of EncryptedMyMessage object at 0x000002E160584390>\n",
      "obj.__init__ = <bound method EncryptedMyMessage.__init__ of <encrypted_my_message.EncryptedMyMessage object at 0x000002E160584390>>\n",
      "obj.__init_subclass__ = <built-in method __init_subclass__ of type object at 0x000002E15F14FB50>\n",
      "obj.__le__ = <method-wrapper '__le__' of EncryptedMyMessage object at 0x000002E160584390>\n",
      "obj.__lt__ = <method-wrapper '__lt__' of EncryptedMyMessage object at 0x000002E160584390>\n",
      "obj.__module__ = 'encrypted_my_message'\n",
      "obj.__ne__ = <method-wrapper '__ne__' of EncryptedMyMessage object at 0x000002E160584390>\n",
      "obj.__new__ = <built-in method __new__ of type object at 0x00007FF8AA94C330>\n",
      "obj.__reduce__ = <built-in method __reduce__ of EncryptedMyMessage object at 0x000002E160584390>\n",
      "obj.__reduce_ex__ = <built-in method __reduce_ex__ of EncryptedMyMessage object at 0x000002E160584390>\n",
      "obj.__repr__ = <method-wrapper '__repr__' of EncryptedMyMessage object at 0x000002E160584390>\n",
      "obj.__setattr__ = <method-wrapper '__setattr__' of EncryptedMyMessage object at 0x000002E160584390>\n",
      "obj.__sizeof__ = <built-in method __sizeof__ of EncryptedMyMessage object at 0x000002E160584390>\n",
      "obj.__str__ = <method-wrapper '__str__' of EncryptedMyMessage object at 0x000002E160584390>\n",
      "obj.__subclasshook__ = <built-in method __subclasshook__ of type object at 0x000002E15F14FB50>\n",
      "obj.__weakref__ = None\n",
      "obj._acceptDecline = <bound method MyMessage._acceptDecline of <encrypted_my_message.EncryptedMyMessage object at 0x000002E160584390>>\n",
      "obj._addToQue = <bound method MyMessage._addToQue of <encrypted_my_message.EncryptedMyMessage object at 0x000002E160584390>>\n",
      "obj._checkCanMakeAES = <bound method EncryptedMyMessage._checkCanMakeAES of <encrypted_my_message.EncryptedMyMessage object at 0x000002E160584390>>\n",
      "obj._commandIDs = {0: <command.Command object at 0x000002E160204A90>}\n",
      "obj._commandQue = []\n",
      "obj._currentMessageEncoding = ''\n",
      "obj._currentMessageSize = 0\n",
      "obj._eventsDictionary = {}\n",
      "obj._generateAESKey = <bound method EncryptedMyMessage._generateAESKey of <encrypted_my_message.EncryptedMyMessage object at 0x000002E160584390>>\n",
      "obj._generateBossNumber = <bound method EncryptedMyMessage._generateBossNumber of <encrypted_my_message.EncryptedMyMessage object at 0x000002E160584390>>\n",
      "obj._getAES = <bound method EncryptedMyMessage._getAES of <encrypted_my_message.EncryptedMyMessage object at 0x000002E160584390>>\n",
      "obj._getAcceptAndDecline = <bound method MyMessage._getAcceptAndDecline of <encrypted_my_message.EncryptedMyMessage object at 0x000002E160584390>>\n",
      "obj._getBossNumber = <bound method EncryptedMyMessage._getBossNumber of <encrypted_my_message.EncryptedMyMessage object at 0x000002E160584390>>\n",
      "obj._getCommandMessage = <bound method MyMessage._getCommandMessage of <encrypted_my_message.EncryptedMyMessage object at 0x000002E160584390>>\n",
      "obj._getDecryptedMessage = <bound method EncryptedMyMessage._getDecryptedMessage of <encrypted_my_message.EncryptedMyMessage object at 0x000002E160584390>>\n",
      "obj._getEncodingMessage = <bound method EncryptedMyMessage._getEncodingMessage of <encrypted_my_message.EncryptedMyMessage object at 0x000002E160584390>>\n",
      "obj._getFunctionReturns = <bound method MyMessage._getFunctionReturns of <encrypted_my_message.EncryptedMyMessage object at 0x000002E160584390>>\n",
      "obj._getMessageToSend = <bound method MyMessage._getMessageToSend of <encrypted_my_message.EncryptedMyMessage object at 0x000002E160584390>>\n",
      "obj._getNewID = <bound method MyMessage._getNewID of <encrypted_my_message.EncryptedMyMessage object at 0x000002E160584390>>\n",
      "obj._getNewRSAEncryption = <bound method EncryptedMyMessage._getNewRSAEncryption of <encrypted_my_message.EncryptedMyMessage object at 0x000002E160584390>>\n",
      "obj._getRSA = <bound method EncryptedMyMessage._getRSA of <encrypted_my_message.EncryptedMyMessage object at 0x000002E160584390>>\n",
      "obj._getReply = <bound method MyMessage._getReply of <encrypted_my_message.EncryptedMyMessage object at 0x000002E160584390>>\n",
      "obj._isBoss = {'currentBossNumber': 718, 'recievedBossNumber': 559, 'isBoss': True}\n",
      "obj._logger = <Logger myMessage0 (WARNING)>\n",
      "obj._nextMessageEncryptionType = None\n",
      "obj._returnEcho = <bound method MyMessage._returnEcho of <encrypted_my_message.EncryptedMyMessage object at 0x000002E160584390>>\n",
      "obj._sendAESEncrypted = <bound method EncryptedMyMessage._sendAESEncrypted of <encrypted_my_message.EncryptedMyMessage object at 0x000002E160584390>>\n",
      "obj._sendRSAEncrypted = <bound method EncryptedMyMessage._sendRSAEncrypted of <encrypted_my_message.EncryptedMyMessage object at 0x000002E160584390>>\n",
      "obj._setEncodingFromMessage = <bound method EncryptedMyMessage._setEncodingFromMessage of <encrypted_my_message.EncryptedMyMessage object at 0x000002E160584390>>\n",
      "obj.addcommand = <bound method MyMessage.addcommand of <encrypted_my_message.EncryptedMyMessage object at 0x000002E160584390>>\n",
      "obj.command = <bound method MyMessage.command of <encrypted_my_message.EncryptedMyMessage object at 0x000002E160584390>>\n",
      "obj.decryptAES = <bound method EncryptedMyMessage.decryptAES of <encrypted_my_message.EncryptedMyMessage object at 0x000002E160584390>>\n",
      "obj.decryptRSA = <bound method EncryptedMyMessage.decryptRSA of <encrypted_my_message.EncryptedMyMessage object at 0x000002E160584390>>\n",
      "obj.echo = <bound method MyMessage.echo of <encrypted_my_message.EncryptedMyMessage object at 0x000002E160584390>>\n",
      "obj.findCommandFromID = <bound method MyMessage.findCommandFromID of <encrypted_my_message.EncryptedMyMessage object at 0x000002E160584390>>\n",
      "obj.findCommandFromName = <bound method MyMessage.findCommandFromName of <encrypted_my_message.EncryptedMyMessage object at 0x000002E160584390>>\n",
      "obj.getCommandInfo = <bound method MyMessage.getCommandInfo of <encrypted_my_message.EncryptedMyMessage object at 0x000002E160584390>>\n",
      "obj.isBothRSAKeysValid = <bound method EncryptedMyMessage.isBothRSAKeysValid of <encrypted_my_message.EncryptedMyMessage object at 0x000002E160584390>>\n",
      "obj.popCommandInfo = <bound method MyMessage.popCommandInfo of <encrypted_my_message.EncryptedMyMessage object at 0x000002E160584390>>\n",
      "obj.recv = <bound method EncryptedMyMessage.recv of <encrypted_my_message.EncryptedMyMessage object at 0x000002E160584390>>\n",
      "obj.send = <bound method EncryptedMyMessage.send of <encrypted_my_message.EncryptedMyMessage object at 0x000002E160584390>>\n"
     ]
    }
   ],
   "source": [
    "dumpStuff(etest)"
   ]
  },
  {
   "cell_type": "code",
   "execution_count": 13,
   "id": "cf0ea6e3-680b-4fa0-b673-584cd3a5d97c",
   "metadata": {},
   "outputs": [
    {
     "name": "stdout",
     "output_type": "stream",
     "text": [
      "obj._AESKESIZE = 32\n",
      "obj._ENCODINGMESSAGEENCODING = 'utf-8'\n",
      "obj._ENCODINGMESSAGESIZE = 20\n",
      "obj._EncryptedMyMessage__aesKey = None\n",
      "obj._EncryptedMyMessage__recieveKey = PrivateKey(132329699600583231618303826449376654152922833738159655871034889920713402050799704486214738071827098134216360251597004336990886348130904138041548965752290504861811684689155692042618681839124680038119701846153216169696790711788807031242020167224462198979490119416423827222151283328718613228346325151485990180301, 65537, 60467789400470971165499560411362782274403468299688225191416785151221512294052195710036662664403407355011327043571959181529000007133011676181855523587228187145844288939890073745154378042244493230624725141991082275681896526208627037655373147301512787094288829233751217405489902072680364691630910751178283137845, 47685833974959744791599448901598719177460385354218680165412595944884853615840322435279661534526276334450633332389785992472951615740955718058756809480724364259668963, 2775031672300640330713444726932891547932850370456667916827651138500609764368209648317090993372549843865203063284312518600993879149235617701994127)\n",
      "obj._EncryptedMyMessage__sendKey = PublicKey(117515075442669097688705673707604599711715681428542164380896398733961802784418104942099086043730676154169547071015885482121674956222540185994589138117057922852144104408623439442353071020723915217466527973477115474425351874429991496048869555926553747210243808374342279188133462364765909548546895450088668518113, 65537)\n",
      "obj._MyMessage__commandConvertToEcho = <bound method MyMessage.__commandConvertToEcho of <encrypted_my_message.EncryptedMyMessage object at 0x000002E15E96BFD0>>\n",
      "obj._MyMessage__getCallableOnly = <bound method MyMessage.__getCallableOnly of <encrypted_my_message.EncryptedMyMessage object at 0x000002E15E96BFD0>>\n",
      "obj._MyMessage__getNewInstanceID = <bound method MyMessage.__getNewInstanceID of <encrypted_my_message.EncryptedMyMessage object at 0x000002E15E96BFD0>>\n",
      "obj._MyMessage__instanceCount = 4\n",
      "obj._MyMessage__instanceID = 1\n",
      "obj._MyMessage__instanceIDs = {0: <encrypted_my_message.EncryptedMyMessage object at 0x000002E160584390>, 1: <encrypted_my_message.EncryptedMyMessage object at 0x000002E15E96BFD0>, 2: <my_message.MyMessage object at 0x000002E160710A10>, 3: <my_message.MyMessage object at 0x000002E1607114D0>}\n",
      "obj._MyMessage__removeInstanceID = <bound method MyMessage.__removeInstanceID of <encrypted_my_message.EncryptedMyMessage object at 0x000002E15E96BFD0>>\n",
      "obj._RESKEYSIZE = 1024\n",
      "obj.__annotations__ = {'_MyMessage__instanceCount': <class 'int'>, '_MyMessage__instanceIDs': <class 'dict'>}\n",
      "obj.__class__ = <class 'encrypted_my_message.EncryptedMyMessage'>\n",
      "obj.__del__ = <bound method MyMessage.__del__ of <encrypted_my_message.EncryptedMyMessage object at 0x000002E15E96BFD0>>\n",
      "obj.__delattr__ = <method-wrapper '__delattr__' of EncryptedMyMessage object at 0x000002E15E96BFD0>\n",
      "obj.__dict__ = {'_nextMessageEncryptionType': None, '_EncryptedMyMessage__sendKey': PublicKey(117515075442669097688705673707604599711715681428542164380896398733961802784418104942099086043730676154169547071015885482121674956222540185994589138117057922852144104408623439442353071020723915217466527973477115474425351874429991496048869555926553747210243808374342279188133462364765909548546895450088668518113, 65537), '_EncryptedMyMessage__recieveKey': PrivateKey(132329699600583231618303826449376654152922833738159655871034889920713402050799704486214738071827098134216360251597004336990886348130904138041548965752290504861811684689155692042618681839124680038119701846153216169696790711788807031242020167224462198979490119416423827222151283328718613228346325151485990180301, 65537, 60467789400470971165499560411362782274403468299688225191416785151221512294052195710036662664403407355011327043571959181529000007133011676181855523587228187145844288939890073745154378042244493230624725141991082275681896526208627037655373147301512787094288829233751217405489902072680364691630910751178283137845, 47685833974959744791599448901598719177460385354218680165412595944884853615840322435279661534526276334450633332389785992472951615740955718058756809480724364259668963, 2775031672300640330713444726932891547932850370456667916827651138500609764368209648317090993372549843865203063284312518600993879149235617701994127), '_EncryptedMyMessage__aesKey': None, '_isBoss': {'currentBossNumber': 559, 'recievedBossNumber': 718, 'isBoss': False}, '_MyMessage__instanceID': 1, '_logger': <Logger myMessage1 (WARNING)>, '_eventsDictionary': {}, '_commandQue': [], '_commandIDs': {0: <command.Command object at 0x000002E160482E90>}, '_currentMessageSize': 0, '_currentMessageEncoding': ''}\n",
      "obj.__dir__ = <built-in method __dir__ of EncryptedMyMessage object at 0x000002E15E96BFD0>\n",
      "obj.__doc__ = None\n",
      "obj.__eq__ = <method-wrapper '__eq__' of EncryptedMyMessage object at 0x000002E15E96BFD0>\n",
      "obj.__format__ = <built-in method __format__ of EncryptedMyMessage object at 0x000002E15E96BFD0>\n",
      "obj.__ge__ = <method-wrapper '__ge__' of EncryptedMyMessage object at 0x000002E15E96BFD0>\n",
      "obj.__getattribute__ = <method-wrapper '__getattribute__' of EncryptedMyMessage object at 0x000002E15E96BFD0>\n",
      "obj.__getstate__ = <built-in method __getstate__ of EncryptedMyMessage object at 0x000002E15E96BFD0>\n",
      "obj.__gt__ = <method-wrapper '__gt__' of EncryptedMyMessage object at 0x000002E15E96BFD0>\n",
      "obj.__hash__ = <method-wrapper '__hash__' of EncryptedMyMessage object at 0x000002E15E96BFD0>\n",
      "obj.__init__ = <bound method EncryptedMyMessage.__init__ of <encrypted_my_message.EncryptedMyMessage object at 0x000002E15E96BFD0>>\n",
      "obj.__init_subclass__ = <built-in method __init_subclass__ of type object at 0x000002E15F14FB50>\n",
      "obj.__le__ = <method-wrapper '__le__' of EncryptedMyMessage object at 0x000002E15E96BFD0>\n",
      "obj.__lt__ = <method-wrapper '__lt__' of EncryptedMyMessage object at 0x000002E15E96BFD0>\n",
      "obj.__module__ = 'encrypted_my_message'\n",
      "obj.__ne__ = <method-wrapper '__ne__' of EncryptedMyMessage object at 0x000002E15E96BFD0>\n",
      "obj.__new__ = <built-in method __new__ of type object at 0x00007FF8AA94C330>\n",
      "obj.__reduce__ = <built-in method __reduce__ of EncryptedMyMessage object at 0x000002E15E96BFD0>\n",
      "obj.__reduce_ex__ = <built-in method __reduce_ex__ of EncryptedMyMessage object at 0x000002E15E96BFD0>\n",
      "obj.__repr__ = <method-wrapper '__repr__' of EncryptedMyMessage object at 0x000002E15E96BFD0>\n",
      "obj.__setattr__ = <method-wrapper '__setattr__' of EncryptedMyMessage object at 0x000002E15E96BFD0>\n",
      "obj.__sizeof__ = <built-in method __sizeof__ of EncryptedMyMessage object at 0x000002E15E96BFD0>\n",
      "obj.__str__ = <method-wrapper '__str__' of EncryptedMyMessage object at 0x000002E15E96BFD0>\n",
      "obj.__subclasshook__ = <built-in method __subclasshook__ of type object at 0x000002E15F14FB50>\n",
      "obj.__weakref__ = None\n",
      "obj._acceptDecline = <bound method MyMessage._acceptDecline of <encrypted_my_message.EncryptedMyMessage object at 0x000002E15E96BFD0>>\n",
      "obj._addToQue = <bound method MyMessage._addToQue of <encrypted_my_message.EncryptedMyMessage object at 0x000002E15E96BFD0>>\n",
      "obj._checkCanMakeAES = <bound method EncryptedMyMessage._checkCanMakeAES of <encrypted_my_message.EncryptedMyMessage object at 0x000002E15E96BFD0>>\n",
      "obj._commandIDs = {0: <command.Command object at 0x000002E160482E90>}\n",
      "obj._commandQue = []\n",
      "obj._currentMessageEncoding = ''\n",
      "obj._currentMessageSize = 0\n",
      "obj._eventsDictionary = {}\n",
      "obj._generateAESKey = <bound method EncryptedMyMessage._generateAESKey of <encrypted_my_message.EncryptedMyMessage object at 0x000002E15E96BFD0>>\n",
      "obj._generateBossNumber = <bound method EncryptedMyMessage._generateBossNumber of <encrypted_my_message.EncryptedMyMessage object at 0x000002E15E96BFD0>>\n",
      "obj._getAES = <bound method EncryptedMyMessage._getAES of <encrypted_my_message.EncryptedMyMessage object at 0x000002E15E96BFD0>>\n",
      "obj._getAcceptAndDecline = <bound method MyMessage._getAcceptAndDecline of <encrypted_my_message.EncryptedMyMessage object at 0x000002E15E96BFD0>>\n",
      "obj._getBossNumber = <bound method EncryptedMyMessage._getBossNumber of <encrypted_my_message.EncryptedMyMessage object at 0x000002E15E96BFD0>>\n",
      "obj._getCommandMessage = <bound method MyMessage._getCommandMessage of <encrypted_my_message.EncryptedMyMessage object at 0x000002E15E96BFD0>>\n",
      "obj._getDecryptedMessage = <bound method EncryptedMyMessage._getDecryptedMessage of <encrypted_my_message.EncryptedMyMessage object at 0x000002E15E96BFD0>>\n",
      "obj._getEncodingMessage = <bound method EncryptedMyMessage._getEncodingMessage of <encrypted_my_message.EncryptedMyMessage object at 0x000002E15E96BFD0>>\n",
      "obj._getFunctionReturns = <bound method MyMessage._getFunctionReturns of <encrypted_my_message.EncryptedMyMessage object at 0x000002E15E96BFD0>>\n",
      "obj._getMessageToSend = <bound method MyMessage._getMessageToSend of <encrypted_my_message.EncryptedMyMessage object at 0x000002E15E96BFD0>>\n",
      "obj._getNewID = <bound method MyMessage._getNewID of <encrypted_my_message.EncryptedMyMessage object at 0x000002E15E96BFD0>>\n",
      "obj._getNewRSAEncryption = <bound method EncryptedMyMessage._getNewRSAEncryption of <encrypted_my_message.EncryptedMyMessage object at 0x000002E15E96BFD0>>\n",
      "obj._getRSA = <bound method EncryptedMyMessage._getRSA of <encrypted_my_message.EncryptedMyMessage object at 0x000002E15E96BFD0>>\n",
      "obj._getReply = <bound method MyMessage._getReply of <encrypted_my_message.EncryptedMyMessage object at 0x000002E15E96BFD0>>\n",
      "obj._isBoss = {'currentBossNumber': 559, 'recievedBossNumber': 718, 'isBoss': False}\n",
      "obj._logger = <Logger myMessage1 (WARNING)>\n",
      "obj._nextMessageEncryptionType = None\n",
      "obj._returnEcho = <bound method MyMessage._returnEcho of <encrypted_my_message.EncryptedMyMessage object at 0x000002E15E96BFD0>>\n",
      "obj._sendAESEncrypted = <bound method EncryptedMyMessage._sendAESEncrypted of <encrypted_my_message.EncryptedMyMessage object at 0x000002E15E96BFD0>>\n",
      "obj._sendRSAEncrypted = <bound method EncryptedMyMessage._sendRSAEncrypted of <encrypted_my_message.EncryptedMyMessage object at 0x000002E15E96BFD0>>\n",
      "obj._setEncodingFromMessage = <bound method EncryptedMyMessage._setEncodingFromMessage of <encrypted_my_message.EncryptedMyMessage object at 0x000002E15E96BFD0>>\n",
      "obj.addcommand = <bound method MyMessage.addcommand of <encrypted_my_message.EncryptedMyMessage object at 0x000002E15E96BFD0>>\n",
      "obj.command = <bound method MyMessage.command of <encrypted_my_message.EncryptedMyMessage object at 0x000002E15E96BFD0>>\n",
      "obj.decryptAES = <bound method EncryptedMyMessage.decryptAES of <encrypted_my_message.EncryptedMyMessage object at 0x000002E15E96BFD0>>\n",
      "obj.decryptRSA = <bound method EncryptedMyMessage.decryptRSA of <encrypted_my_message.EncryptedMyMessage object at 0x000002E15E96BFD0>>\n",
      "obj.echo = <bound method MyMessage.echo of <encrypted_my_message.EncryptedMyMessage object at 0x000002E15E96BFD0>>\n",
      "obj.findCommandFromID = <bound method MyMessage.findCommandFromID of <encrypted_my_message.EncryptedMyMessage object at 0x000002E15E96BFD0>>\n",
      "obj.findCommandFromName = <bound method MyMessage.findCommandFromName of <encrypted_my_message.EncryptedMyMessage object at 0x000002E15E96BFD0>>\n",
      "obj.getCommandInfo = <bound method MyMessage.getCommandInfo of <encrypted_my_message.EncryptedMyMessage object at 0x000002E15E96BFD0>>\n",
      "obj.isBothRSAKeysValid = <bound method EncryptedMyMessage.isBothRSAKeysValid of <encrypted_my_message.EncryptedMyMessage object at 0x000002E15E96BFD0>>\n",
      "obj.popCommandInfo = <bound method MyMessage.popCommandInfo of <encrypted_my_message.EncryptedMyMessage object at 0x000002E15E96BFD0>>\n",
      "obj.recv = <bound method EncryptedMyMessage.recv of <encrypted_my_message.EncryptedMyMessage object at 0x000002E15E96BFD0>>\n",
      "obj.send = <bound method EncryptedMyMessage.send of <encrypted_my_message.EncryptedMyMessage object at 0x000002E15E96BFD0>>\n"
     ]
    }
   ],
   "source": [
    "dumpStuff(etest2)"
   ]
  },
  {
   "cell_type": "code",
   "execution_count": 34,
   "id": "865f08e2-63dd-432f-87dc-8727e2f547ba",
   "metadata": {},
   "outputs": [
    {
     "name": "stdout",
     "output_type": "stream",
     "text": [
      "['size355codeutf-8;', '{\"command\": \"newRSA\", \"ID\": 0, \"data\": {\"publicKey\": \"-----BEGIN RSA PUBLIC KEY-----\\\\nMIGJAoGBAIKN1chV+QWmnjKFYNq0iCqhpzsE8v8MLSUgv2lDPkjweGT9AlRt8DPb\\\\nlAiqQPNkAW0aI8Z0oS+LTW/L8J5Ugbqa+Ha0CtD/YLGlqXoyGE0bu5n9f8HoBjz3\\\\nKi4UgiK9L5nwKP49dusCmhCItVk6QtxV6w3keQwcXZwEQuM0wJHJAgMBAAE=\\\\n-----END RSA PUBLIC KEY-----\\\\n\", \"encoding\": \"utf-8\"}, \"hasPriority\": true}', 'size32codeutf-8;', 'lmf size128codeutf-8;encryptRSA;', b\"H\\xe8\\xf6?\\xb3\\xe7\\xafi^\\x1a\\xb1^\\xafU=\\x81\\xb95\\xe3'\\x03\\xf3\\x80\\r\\x8b\\xdb\\xa4\\xc4\\xf9\\xdb\\xd1\\x01\\xcd\\x16;\\xc0CKV\\xe7$*\\xfej\\xcf\\x90\\x8b\\xd8\\xe3\\xb2y\\x1a\\xb7\\xa4\\xca~0P\\xb8\\xc8o\\xd6\\x7f\\rz\\x89\\xce\\xda\\x9b,%+p\\xe63\\xf9\\xc7\\x18\\x8bTLtq5Z(J\\xce\\x922A5\\xbe\\xd6\\x9eNdQ^t\\xb7A\\x1e\\xbc\\xc9)~\\x1f\\x00^p\\xdeZ\\x1e\\xaeIIw\\x15\\xf1W\\xedJU\\xc6\\xb5Zi\", 'size32codeutf-8;', 'lmf size128codeutf-8;encryptRSA;', b'B\\x9c\\xd6\\xcahql\\xb2/\\x8e\\xf01\"-a\\xa4qX\\xb3\\xc2<\\xc1O\\xfdI\\x10^i]\\xad\\xd4Q\\r\\x12\\xacj\\xc7\\x81\\x82\\xf6X?o\\xe6eq\\x9d\\xd1\\xf0%w\\xad\\xfe;\\xfci\\xce]G\\x12\\xfb4\\xf1\\xb5{\\x9d\\xf9\\x06\\xfa\\xb7\\xbd\\xb6\\x1a\\x05}y\\xcc\\xa7VAS\\xaa\\x07]vs\\xbdu\\xcd\\x98\\x8d\"m\\x9e!\\xfc\\x1b\\xba\\xb7\\xca\\n\\'P\\xbb\\x1a\\xc1\\xf4\\x8be\\xe9\\xe2\\xfb\\xf3\\xc7Th4\\x90$9D\\x8bBg\\xc5\\x94\\xa1\\xf8']\n"
     ]
    }
   ],
   "source": [
    "print(messageList[\"etest\"])"
   ]
  },
  {
   "cell_type": "code",
   "execution_count": 13,
   "id": "7677cf04-45f1-471a-a6ed-535346d121ab",
   "metadata": {},
   "outputs": [],
   "source": [
    "def abigel(x : int, **kwargs):\n",
    "    print(x)\n",
    "    print(kwargs['t'])"
   ]
  },
  {
   "cell_type": "code",
   "execution_count": 14,
   "id": "4613a122-5b2c-44f7-836c-904aef58c455",
   "metadata": {},
   "outputs": [
    {
     "name": "stdout",
     "output_type": "stream",
     "text": [
      "10\n",
      "e\n"
     ]
    }
   ],
   "source": [
    "abigel(10, t = \"e\")"
   ]
  },
  {
   "cell_type": "code",
   "execution_count": 8,
   "id": "051e44c1-774e-49cb-af54-8fb9a11f7eff",
   "metadata": {},
   "outputs": [
    {
     "data": {
      "text/plain": [
       "20"
      ]
     },
     "execution_count": 8,
     "metadata": {},
     "output_type": "execute_result"
    }
   ],
   "source": [
    "len(\"lmf size128codeutf-8\")"
   ]
  },
  {
   "cell_type": "code",
   "execution_count": 15,
   "id": "639670d1-3fd3-4735-92ad-962155baa511",
   "metadata": {},
   "outputs": [
    {
     "data": {
      "text/plain": [
       "\"b'0\\\\xd8\\\\xea\\\\\\\\\\\\xb2\\\\xd3\\\\x91\\\\xc8\\\\xfd\\\\x8f\\\\x97\\\\\\\\\\\\xafU7x\\\\x04\\\\x0f\\\\x15\\\\xf4'\""
      ]
     },
     "execution_count": 15,
     "metadata": {},
     "output_type": "execute_result"
    }
   ],
   "source": [
    "\n"
   ]
  },
  {
   "cell_type": "code",
   "execution_count": null,
   "id": "c5ffd952-0599-4bfe-b898-8afa9d2252ea",
   "metadata": {},
   "outputs": [],
   "source": []
  }
 ],
 "metadata": {
  "kernelspec": {
   "display_name": "Python 3 (ipykernel)",
   "language": "python",
   "name": "python3"
  },
  "language_info": {
   "codemirror_mode": {
    "name": "ipython",
    "version": 3
   },
   "file_extension": ".py",
   "mimetype": "text/x-python",
   "name": "python",
   "nbconvert_exporter": "python",
   "pygments_lexer": "ipython3",
   "version": "3.11.7"
  }
 },
 "nbformat": 4,
 "nbformat_minor": 5
}
