{
 "cells": [
  {
   "cell_type": "code",
   "execution_count": 2,
   "id": "5f2af6ed-370f-422f-8a37-5170f766dfac",
   "metadata": {},
   "outputs": [],
   "source": [
    "from locked_event import *\n",
    "from misc import *"
   ]
  },
  {
   "cell_type": "code",
   "execution_count": 3,
   "id": "e44aee22-9e36-47b4-ae94-eb8a6fffe9fe",
   "metadata": {},
   "outputs": [],
   "source": [
    "createLock(\"test\", \"hello world\")"
   ]
  },
  {
   "cell_type": "code",
   "execution_count": 6,
   "id": "ea4ef667-1413-4434-8252-51c04a836f84",
   "metadata": {},
   "outputs": [
    {
     "name": "stdout",
     "output_type": "stream",
     "text": [
      "hashedText == b\"\\xac\\xda\\xe6\\xd4\\xa6\\xa0JlU\\x17\\xf1>&\\xabf\\x9e\\x11\\x84\\x15\\x9aD\\xcaWj\\xd1%\\x92Y-\\xb9Bh\\x82\\x0em\\x93\\xa8\\xb3\\x96l`\\x81\\x8a\\xa0\\x80\\x18\\x9c\\xe3\\x8f\\rJ\\xac\\xb1\\x81\\x84\\x14\\x08\\xdf\\xe17'F\\x95\\xde\"\n",
      "\n",
      "salt == b'p\\xe2o\\xabv\\x0f\\x06\\xd4\\x8e\"\\x06;\\xad[g\\xcfn\\x1e\\x12\\xf5\\x026F\\xa7T\\x8a\\x02\\x136\\xa9\\x9dOD\\n\\xbc\\xa8\\x85\\xc9\\xd92\\xb7\\xc1\\xba\\xdea\\xb6\\xb5`\\xa7\\xe0\\x11ji\\x81\\x16Jw\\xdc\\'\\x0f\\'\\\\\\r\\xca'\n"
     ]
    }
   ],
   "source": [
    "hashedText, salt = readLock(\"test\")\n",
    "print(f\"hashedText == {hashedText}\\n\\nsalt == {salt}\")"
   ]
  },
  {
   "cell_type": "code",
   "execution_count": 9,
   "id": "5d3322b2-44cb-4297-a850-fcf0c69e9de5",
   "metadata": {},
   "outputs": [
    {
     "name": "stdout",
     "output_type": "stream",
     "text": [
      "hashedText2 == b\"\\xac\\xda\\xe6\\xd4\\xa6\\xa0JlU\\x17\\xf1>&\\xabf\\x9e\\x11\\x84\\x15\\x9aD\\xcaWj\\xd1%\\x92Y-\\xb9Bh\\x82\\x0em\\x93\\xa8\\xb3\\x96l`\\x81\\x8a\\xa0\\x80\\x18\\x9c\\xe3\\x8f\\rJ\\xac\\xb1\\x81\\x84\\x14\\x08\\xdf\\xe17'F\\x95\\xde\"\n",
      "\n",
      "salt2 == b'p\\xe2o\\xabv\\x0f\\x06\\xd4\\x8e\"\\x06;\\xad[g\\xcfn\\x1e\\x12\\xf5\\x026F\\xa7T\\x8a\\x02\\x136\\xa9\\x9dOD\\n\\xbc\\xa8\\x85\\xc9\\xd92\\xb7\\xc1\\xba\\xdea\\xb6\\xb5`\\xa7\\xe0\\x11ji\\x81\\x16Jw\\xdc\\'\\x0f\\'\\\\\\r\\xca'\n"
     ]
    }
   ],
   "source": [
    "hashSalt, saltSize = generateHash(\"hello world\", salt)\n",
    "hashedText2, salt2 = splitHashSalt(hashSalt, saltSize)\n",
    "print(f\"hashedText2 == {hashedText2}\\n\\nsalt2 == {salt2}\")"
   ]
  },
  {
   "cell_type": "code",
   "execution_count": 10,
   "id": "8e3948df-4bab-4db3-bcc8-b18c43dc1f64",
   "metadata": {},
   "outputs": [
    {
     "data": {
      "text/plain": [
       "True"
      ]
     },
     "execution_count": 10,
     "metadata": {},
     "output_type": "execute_result"
    }
   ],
   "source": [
    "hashedText == hashedText2"
   ]
  },
  {
   "cell_type": "code",
   "execution_count": 11,
   "id": "d36a34ca-1872-4fbe-83b8-598410d1cd7d",
   "metadata": {},
   "outputs": [
    {
     "data": {
      "text/plain": [
       "True"
      ]
     },
     "execution_count": 11,
     "metadata": {},
     "output_type": "execute_result"
    }
   ],
   "source": [
    "salt == salt2"
   ]
  },
  {
   "cell_type": "code",
   "execution_count": 12,
   "id": "d745c245-ccdf-4b70-b25e-9ae997f8dabc",
   "metadata": {},
   "outputs": [
    {
     "data": {
      "text/plain": [
       "True"
      ]
     },
     "execution_count": 12,
     "metadata": {},
     "output_type": "execute_result"
    }
   ],
   "source": [
    "hashedText2 + salt2 == hashSalt"
   ]
  },
  {
   "cell_type": "code",
   "execution_count": null,
   "id": "83329938-ccbc-4762-8fa2-178cd0ae7755",
   "metadata": {},
   "outputs": [],
   "source": []
  }
 ],
 "metadata": {
  "kernelspec": {
   "display_name": "Python 3 (ipykernel)",
   "language": "python",
   "name": "python3"
  },
  "language_info": {
   "codemirror_mode": {
    "name": "ipython",
    "version": 3
   },
   "file_extension": ".py",
   "mimetype": "text/x-python",
   "name": "python",
   "nbconvert_exporter": "python",
   "pygments_lexer": "ipython3",
   "version": "3.11.7"
  }
 },
 "nbformat": 4,
 "nbformat_minor": 5
}
