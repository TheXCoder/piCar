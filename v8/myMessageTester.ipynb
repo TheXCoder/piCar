{
 "cells": [
  {
   "cell_type": "code",
   "execution_count": 1,
   "id": "3f1d8746-3702-4555-8598-08b23c434d01",
   "metadata": {},
   "outputs": [],
   "source": [
    "from my_message import MyMessage"
   ]
  },
  {
   "cell_type": "code",
   "execution_count": 2,
   "id": "62cd6264-933d-42ff-b770-15a6dd98b981",
   "metadata": {},
   "outputs": [],
   "source": [
    "def dumpStuff(obj):\n",
    "  for attr in dir(obj):\n",
    "    print(\"obj.%s = %r\" % (attr, getattr(obj, attr)))"
   ]
  },
  {
   "cell_type": "code",
   "execution_count": 3,
   "id": "f3d039cd-ddf8-4d5f-b3ef-2a5da8cd810f",
   "metadata": {},
   "outputs": [
    {
     "name": "stdout",
     "output_type": "stream",
     "text": [
      "A class to simplify sending messages between devices\n",
      "    \n",
      "    ===========Important information===========\n",
      "    ===========================================\n",
      "    \n",
      "    eventsDictionary\n",
      "    ----------------\n",
      "    items in dictionary requirement {[str] command name : [function(dict | None) -> int, dict|None]} a valid function that has\n",
      "    _________________________________________________________________________________________________________________________\n",
      "    1) one parameter that will be used to pass command data into as a dictionary or None if nothing is being passed\n",
      "    2) return a bool value that determines if accept/decline (True/False) will be sent function can more than one value at a time, the rest will be packaged and sent in the accept/decline message as None if no additional information is being sent or a dictionary with the the additional information\n",
      "    \n"
     ]
    }
   ],
   "source": [
    "test = MyMessage()\n",
    "test2 = MyMessage()\n",
    "print(test.__doc__)"
   ]
  },
  {
   "cell_type": "code",
   "execution_count": 4,
   "id": "95c1ce2d-e242-4099-af6d-26dc19922570",
   "metadata": {},
   "outputs": [
    {
     "name": "stdout",
     "output_type": "stream",
     "text": [
      "A class to simplify sending messages between devices\n",
      "    \n",
      "    ===========Important information===========\n",
      "    ===========================================\n",
      "    \n",
      "    eventsDictionary\n",
      "    ----------------\n",
      "    items in dictionary requirement {[str] command name : [function(dict | None) -> int, dict|None]} a valid function that has\n",
      "    _________________________________________________________________________________________________________________________\n",
      "    1) one parameter that will be used to pass command data into as a dictionary or None if nothing is being passed\n",
      "    2) return a bool value that determines if accept/decline (True/False) will be sent function can more than one value at a time, the rest will be packaged and sent in the accept/decline message as None if no additional information is being sent or a dictionary with the the additional information\n",
      "    \n"
     ]
    }
   ],
   "source": [
    "print(MyMessage.__doc__)"
   ]
  },
  {
   "cell_type": "code",
   "execution_count": 8,
   "id": "d288da81-f066-448e-9232-213a17c17ee6",
   "metadata": {},
   "outputs": [
    {
     "data": {
      "text/plain": [
       "{'command': 'kill', 'ID': 1}"
      ]
     },
     "execution_count": 8,
     "metadata": {},
     "output_type": "execute_result"
    }
   ],
   "source": [
    "test.command(\"kill\", None)"
   ]
  },
  {
   "cell_type": "code",
   "execution_count": 5,
   "id": "c0572f07-128f-40d8-8b18-2392d09155da",
   "metadata": {},
   "outputs": [
    {
     "name": "stdout",
     "output_type": "stream",
     "text": [
      "size64codeutf-8;\n",
      "{\"command\": \"kill\", \"ID\": 0, \"data\": null, \"hasPriority\": false}\n"
     ]
    }
   ],
   "source": [
    "for message in test.send():\n",
    "    print(message)"
   ]
  },
  {
   "cell_type": "code",
   "execution_count": 9,
   "id": "4e7c60da-8b58-4756-963f-79cd74cfb0f1",
   "metadata": {},
   "outputs": [
    {
     "name": "stderr",
     "output_type": "stream",
     "text": [
      "\"{commandName}\" does not have a function associated with it.\n"
     ]
    },
    {
     "name": "stdout",
     "output_type": "stream",
     "text": [
      "{'command': 'kill', 'ID': 1, 'data': None, 'hasPriority': False}\n"
     ]
    }
   ],
   "source": [
    "for message in test.send():\n",
    "    test2.recv(message)"
   ]
  },
  {
   "cell_type": "code",
   "execution_count": 6,
   "id": "bd8453c6-fb4e-4bc8-abf9-d149bdb4216a",
   "metadata": {},
   "outputs": [],
   "source": [
    "for message in test2.send():\n",
    "    test.recv(message)"
   ]
  },
  {
   "cell_type": "code",
   "execution_count": 11,
   "id": "8a1404bc-e373-4a41-9095-4cc5474bd41f",
   "metadata": {},
   "outputs": [
    {
     "data": {
      "text/plain": [
       "['_ENCODINGMESSAGEENCODING',\n",
       " '_ENCODINGMESSAGESIZE',\n",
       " '_MyMessage__commandConvertToEcho',\n",
       " '_MyMessage__getCallableOnly',\n",
       " '_MyMessage__getNewInstanceID',\n",
       " '_MyMessage__instanceCount',\n",
       " '_MyMessage__instanceID',\n",
       " '_MyMessage__instanceIDs',\n",
       " '_MyMessage__removeInstanceID',\n",
       " '__annotations__',\n",
       " '__class__',\n",
       " '__del__',\n",
       " '__delattr__',\n",
       " '__dict__',\n",
       " '__dir__',\n",
       " '__doc__',\n",
       " '__eq__',\n",
       " '__format__',\n",
       " '__ge__',\n",
       " '__getattribute__',\n",
       " '__getstate__',\n",
       " '__gt__',\n",
       " '__hash__',\n",
       " '__init__',\n",
       " '__init_subclass__',\n",
       " '__le__',\n",
       " '__lt__',\n",
       " '__module__',\n",
       " '__ne__',\n",
       " '__new__',\n",
       " '__reduce__',\n",
       " '__reduce_ex__',\n",
       " '__repr__',\n",
       " '__setattr__',\n",
       " '__sizeof__',\n",
       " '__str__',\n",
       " '__subclasshook__',\n",
       " '__weakref__',\n",
       " '_acceptDecline',\n",
       " '_addToQue',\n",
       " '_commandIDs',\n",
       " '_commandQue',\n",
       " '_currentMessageEncoding',\n",
       " '_currentMessageSize',\n",
       " '_eventsDictionary',\n",
       " '_getAcceptAndDecline',\n",
       " '_getCommandMessage',\n",
       " '_getEncodingMessage',\n",
       " '_getFunctionReturns',\n",
       " '_getMessageToSend',\n",
       " '_getNewID',\n",
       " '_getReply',\n",
       " '_logger',\n",
       " '_returnEcho',\n",
       " '_setEncodingFromMessage',\n",
       " 'addcommand',\n",
       " 'command',\n",
       " 'echo',\n",
       " 'recv',\n",
       " 'send']"
      ]
     },
     "execution_count": 11,
     "metadata": {},
     "output_type": "execute_result"
    }
   ],
   "source": [
    "dir(test2)\n"
   ]
  },
  {
   "cell_type": "code",
   "execution_count": 13,
   "id": "c0ebb6f9-1cf6-4b8c-adb0-47104f19e61f",
   "metadata": {},
   "outputs": [],
   "source": []
  },
  {
   "cell_type": "code",
   "execution_count": 14,
   "id": "36290add-6e26-4277-8dc0-e9dfa4b7022c",
   "metadata": {},
   "outputs": [
    {
     "name": "stdout",
     "output_type": "stream",
     "text": [
      "obj._ENCODINGMESSAGEENCODING = 'utf-8'\n",
      "obj._ENCODINGMESSAGESIZE = 20\n",
      "obj._MyMessage__commandConvertToEcho = <bound method MyMessage.__commandConvertToEcho of <my_message.MyMessage object at 0x000002AD7F1FF1D0>>\n",
      "obj._MyMessage__getCallableOnly = <bound method MyMessage.__getCallableOnly of <my_message.MyMessage object at 0x000002AD7F1FF1D0>>\n",
      "obj._MyMessage__getNewInstanceID = <bound method MyMessage.__getNewInstanceID of <my_message.MyMessage object at 0x000002AD7F1FF1D0>>\n",
      "obj._MyMessage__instanceCount = 2\n",
      "obj._MyMessage__instanceID = 1\n",
      "obj._MyMessage__instanceIDs = {0: <my_message.MyMessage object at 0x000002AD7F214790>, 1: <my_message.MyMessage object at 0x000002AD7F1FF1D0>}\n",
      "obj._MyMessage__removeInstanceID = <bound method MyMessage.__removeInstanceID of <my_message.MyMessage object at 0x000002AD7F1FF1D0>>\n",
      "obj.__annotations__ = {'_MyMessage__instanceCount': <class 'int'>, '_MyMessage__instanceIDs': <class 'dict'>}\n",
      "obj.__class__ = <class 'my_message.MyMessage'>\n",
      "obj.__del__ = <bound method MyMessage.__del__ of <my_message.MyMessage object at 0x000002AD7F1FF1D0>>\n",
      "obj.__delattr__ = <method-wrapper '__delattr__' of MyMessage object at 0x000002AD7F1FF1D0>\n",
      "obj.__dict__ = {'_MyMessage__instanceID': 1, '_logger': <Logger myMessage1 (WARNING)>, '_eventsDictionary': {}, '_commandQue': [{'command': 'reply', 'ID': None, 'data': '', 'hasPriority': False}], '_commandIDs': {}, '_currentMessageSize': 96, '_currentMessageEncoding': 'utf-8'}\n",
      "obj.__dir__ = <built-in method __dir__ of MyMessage object at 0x000002AD7F1FF1D0>\n",
      "obj.__doc__ = 'A class to simplify sending messages between devices\\n    \\n    ===========Important information===========\\n    ===========================================\\n    \\n    eventsDictionary\\n    ----------------\\n    items in dictionary requirement {[str] command name : [function(dict | None) -> int, dict|None]} a valid function that has\\n    _________________________________________________________________________________________________________________________\\n    1) one parameter that will be used to pass command data into as a dictionary or None if nothing is being passed\\n    2) return a bool value that determines if accept/decline (True/False) will be sent function can more than one value at a time, the rest will be packaged and sent in the accept/decline message as None if no additional information is being sent or a dictionary with the the additional information\\n    '\n",
      "obj.__eq__ = <method-wrapper '__eq__' of MyMessage object at 0x000002AD7F1FF1D0>\n",
      "obj.__format__ = <built-in method __format__ of MyMessage object at 0x000002AD7F1FF1D0>\n",
      "obj.__ge__ = <method-wrapper '__ge__' of MyMessage object at 0x000002AD7F1FF1D0>\n",
      "obj.__getattribute__ = <method-wrapper '__getattribute__' of MyMessage object at 0x000002AD7F1FF1D0>\n",
      "obj.__getstate__ = <built-in method __getstate__ of MyMessage object at 0x000002AD7F1FF1D0>\n",
      "obj.__gt__ = <method-wrapper '__gt__' of MyMessage object at 0x000002AD7F1FF1D0>\n",
      "obj.__hash__ = <method-wrapper '__hash__' of MyMessage object at 0x000002AD7F1FF1D0>\n",
      "obj.__init__ = <bound method MyMessage.__init__ of <my_message.MyMessage object at 0x000002AD7F1FF1D0>>\n",
      "obj.__init_subclass__ = <built-in method __init_subclass__ of type object at 0x000002AD7DF68100>\n",
      "obj.__le__ = <method-wrapper '__le__' of MyMessage object at 0x000002AD7F1FF1D0>\n",
      "obj.__lt__ = <method-wrapper '__lt__' of MyMessage object at 0x000002AD7F1FF1D0>\n",
      "obj.__module__ = 'my_message'\n",
      "obj.__ne__ = <method-wrapper '__ne__' of MyMessage object at 0x000002AD7F1FF1D0>\n",
      "obj.__new__ = <built-in method __new__ of type object at 0x00007FFC38D0C330>\n",
      "obj.__reduce__ = <built-in method __reduce__ of MyMessage object at 0x000002AD7F1FF1D0>\n",
      "obj.__reduce_ex__ = <built-in method __reduce_ex__ of MyMessage object at 0x000002AD7F1FF1D0>\n",
      "obj.__repr__ = <method-wrapper '__repr__' of MyMessage object at 0x000002AD7F1FF1D0>\n",
      "obj.__setattr__ = <method-wrapper '__setattr__' of MyMessage object at 0x000002AD7F1FF1D0>\n",
      "obj.__sizeof__ = <built-in method __sizeof__ of MyMessage object at 0x000002AD7F1FF1D0>\n",
      "obj.__str__ = <method-wrapper '__str__' of MyMessage object at 0x000002AD7F1FF1D0>\n",
      "obj.__subclasshook__ = <built-in method __subclasshook__ of type object at 0x000002AD7DF68100>\n",
      "obj.__weakref__ = None\n",
      "obj._acceptDecline = <bound method MyMessage._acceptDecline of <my_message.MyMessage object at 0x000002AD7F1FF1D0>>\n",
      "obj._addToQue = <bound method MyMessage._addToQue of <my_message.MyMessage object at 0x000002AD7F1FF1D0>>\n",
      "obj._commandIDs = {}\n",
      "obj._commandQue = [{'command': 'reply', 'ID': None, 'data': '', 'hasPriority': False}]\n",
      "obj._currentMessageEncoding = 'utf-8'\n",
      "obj._currentMessageSize = 96\n",
      "obj._eventsDictionary = {}\n",
      "obj._getAcceptAndDecline = <bound method MyMessage._getAcceptAndDecline of <my_message.MyMessage object at 0x000002AD7F1FF1D0>>\n",
      "obj._getCommandMessage = <bound method MyMessage._getCommandMessage of <my_message.MyMessage object at 0x000002AD7F1FF1D0>>\n",
      "obj._getEncodingMessage = <bound method MyMessage._getEncodingMessage of <my_message.MyMessage object at 0x000002AD7F1FF1D0>>\n",
      "obj._getFunctionReturns = <bound method MyMessage._getFunctionReturns of <my_message.MyMessage object at 0x000002AD7F1FF1D0>>\n",
      "obj._getMessageToSend = <bound method MyMessage._getMessageToSend of <my_message.MyMessage object at 0x000002AD7F1FF1D0>>\n",
      "obj._getNewID = <bound method MyMessage._getNewID of <my_message.MyMessage object at 0x000002AD7F1FF1D0>>\n",
      "obj._getReply = <bound method MyMessage._getReply of <my_message.MyMessage object at 0x000002AD7F1FF1D0>>\n",
      "obj._logger = <Logger myMessage1 (WARNING)>\n",
      "obj._returnEcho = <bound method MyMessage._returnEcho of <my_message.MyMessage object at 0x000002AD7F1FF1D0>>\n",
      "obj._setEncodingFromMessage = <bound method MyMessage._setEncodingFromMessage of <my_message.MyMessage object at 0x000002AD7F1FF1D0>>\n",
      "obj.addcommand = <bound method MyMessage.addcommand of <my_message.MyMessage object at 0x000002AD7F1FF1D0>>\n",
      "obj.command = <bound method MyMessage.command of <my_message.MyMessage object at 0x000002AD7F1FF1D0>>\n",
      "obj.echo = <bound method MyMessage.echo of <my_message.MyMessage object at 0x000002AD7F1FF1D0>>\n",
      "obj.recv = <bound method MyMessage.recv of <my_message.MyMessage object at 0x000002AD7F1FF1D0>>\n",
      "obj.send = <bound method MyMessage.send of <my_message.MyMessage object at 0x000002AD7F1FF1D0>>\n"
     ]
    }
   ],
   "source": [
    "dumpStuff(test2)"
   ]
  },
  {
   "cell_type": "markdown",
   "id": "49858b41-31a8-4d4b-a872-5efc173aecb0",
   "metadata": {},
   "source": [
    "# Encryption My Message"
   ]
  },
  {
   "cell_type": "code",
   "execution_count": 1,
   "id": "69fd2791-9834-4e05-a276-6579dae4ed46",
   "metadata": {},
   "outputs": [],
   "source": [
    "from encrypted_my_message import EncryptedMyMessage"
   ]
  },
  {
   "cell_type": "code",
   "execution_count": 2,
   "id": "d6586c34-14bf-484f-934a-41acd614db13",
   "metadata": {},
   "outputs": [
    {
     "data": {
      "text/plain": [
       "<encrypted_my_message.EncryptedMyMessage at 0x1d511a79610>"
      ]
     },
     "execution_count": 2,
     "metadata": {},
     "output_type": "execute_result"
    }
   ],
   "source": [
    "etest = EncryptedMyMessage()\n",
    "etest2 = EncryptedMyMessage()\n",
    "etest"
   ]
  },
  {
   "cell_type": "code",
   "execution_count": 3,
   "id": "2054b783-e708-400f-9691-fa8d6a777972",
   "metadata": {},
   "outputs": [
    {
     "data": {
      "text/plain": [
       "[]"
      ]
     },
     "execution_count": 3,
     "metadata": {},
     "output_type": "execute_result"
    }
   ],
   "source": [
    "messageList : list = []\n",
    "messageList"
   ]
  },
  {
   "cell_type": "code",
   "execution_count": 4,
   "id": "c8431f88-5678-4f1c-a0f9-5bf1a06947f0",
   "metadata": {},
   "outputs": [
    {
     "name": "stdout",
     "output_type": "stream",
     "text": [
      "size355codeutf-8;\n",
      "{\"command\": \"newRSA\", \"ID\": 0, \"data\": {\"publicKey\": \"-----BEGIN RSA PUBLIC KEY-----\\nMIGJAoGBAOI150hcTcI+EToclTSDmHltVHdQFoq86WuFENV2AGpcdRqJjmTrPcMv\\nYEORcQFDqOlh2rvDbALOkl1WjKwQi/8EC8lSCaFLafOpv5dDjfnrohjhn1h0BcYq\\nNVIrfk1Hpic+49ic4pkEg4FdGLECjQ0PddNnFon6JBxGh83YfyqRAgMBAAE=\\n-----END RSA PUBLIC KEY-----\\n\", \"encoding\": \"utf-8\"}, \"hasPriority\": true}\n"
     ]
    }
   ],
   "source": [
    "for message in etest.send():\n",
    "    messageList.append(message)\n",
    "    etest2.recv(message)\n",
    "    print(message)"
   ]
  },
  {
   "cell_type": "code",
   "execution_count": 5,
   "id": "867bb745-6707-4410-857d-63d217f70e49",
   "metadata": {},
   "outputs": [
    {
     "data": {
      "text/plain": [
       "7"
      ]
     },
     "execution_count": 5,
     "metadata": {},
     "output_type": "execute_result"
    }
   ],
   "source": [
    "len(\"encrypt\")"
   ]
  },
  {
   "cell_type": "code",
   "execution_count": null,
   "id": "cedf60de-bd58-4955-8bf8-2cd5a7fc218c",
   "metadata": {},
   "outputs": [],
   "source": []
  }
 ],
 "metadata": {
  "kernelspec": {
   "display_name": "Python 3 (ipykernel)",
   "language": "python",
   "name": "python3"
  },
  "language_info": {
   "codemirror_mode": {
    "name": "ipython",
    "version": 3
   },
   "file_extension": ".py",
   "mimetype": "text/x-python",
   "name": "python",
   "nbconvert_exporter": "python",
   "pygments_lexer": "ipython3",
   "version": "3.11.7"
  }
 },
 "nbformat": 4,
 "nbformat_minor": 5
}
