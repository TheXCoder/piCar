{
 "cells": [
  {
   "cell_type": "code",
   "execution_count": 1,
   "id": "e6d37421-1980-4b0e-b6e8-95c4d361fe4e",
   "metadata": {},
   "outputs": [],
   "source": [
    "from misc import convertBytesToStr\n",
    "from secure_events import SecureEvents\n",
    "from event_configuration import EventConfiguration\n",
    "import rsa, os"
   ]
  },
  {
   "cell_type": "code",
   "execution_count": 2,
   "id": "e21a937a-ec3a-4608-b606-80e87e86f102",
   "metadata": {
    "scrolled": true
   },
   "outputs": [
    {
     "name": "stderr",
     "output_type": "stream",
     "text": [
      "file \"D:\\Documents\\Programming\\Python\\Programs\\Tests\\piCar\\events\\events.ini\" has been modifed outside of this class.\n",
      "The current directory does not have a password.\n",
      "The current directory does not have a password.\n",
      "The current directory does not have a password.\n"
     ]
    },
    {
     "name": "stdout",
     "output_type": "stream",
     "text": [
      "False\n"
     ]
    },
    {
     "name": "stderr",
     "output_type": "stream",
     "text": [
      "The current directory does not have a password.\n",
      "The current directory does not have a password.\n"
     ]
    },
    {
     "name": "stdout",
     "output_type": "stream",
     "text": [
      "False\n",
      "False\n"
     ]
    },
    {
     "name": "stderr",
     "output_type": "stream",
     "text": [
      "The current directory does not have a password.\n"
     ]
    },
    {
     "name": "stdout",
     "output_type": "stream",
     "text": [
      "False\n"
     ]
    },
    {
     "name": "stderr",
     "output_type": "stream",
     "text": [
      "The current directory does not have a password.\n",
      "The current directory does not have a password.\n"
     ]
    },
    {
     "name": "stdout",
     "output_type": "stream",
     "text": [
      "False\n",
      "False\n"
     ]
    },
    {
     "name": "stderr",
     "output_type": "stream",
     "text": [
      "The current directory does not have a password.\n",
      "The current directory does not have a password.\n"
     ]
    },
    {
     "name": "stdout",
     "output_type": "stream",
     "text": [
      "False\n",
      "False\n"
     ]
    },
    {
     "name": "stderr",
     "output_type": "stream",
     "text": [
      "The current directory does not have a password.\n"
     ]
    },
    {
     "name": "stdout",
     "output_type": "stream",
     "text": [
      "False\n"
     ]
    },
    {
     "name": "stderr",
     "output_type": "stream",
     "text": [
      "The current directory does not have a password.\n"
     ]
    },
    {
     "name": "stdout",
     "output_type": "stream",
     "text": [
      "False\n"
     ]
    },
    {
     "name": "stderr",
     "output_type": "stream",
     "text": [
      "The current directory does not have a password.\n",
      "The current directory does not have a password.\n"
     ]
    },
    {
     "name": "stdout",
     "output_type": "stream",
     "text": [
      "False\n",
      "False\n"
     ]
    },
    {
     "name": "stderr",
     "output_type": "stream",
     "text": [
      "The current directory does not have a password.\n"
     ]
    },
    {
     "name": "stdout",
     "output_type": "stream",
     "text": [
      "False\n",
      "False\n"
     ]
    }
   ],
   "source": [
    "testE = EventConfiguration()\n",
    "for i in range(1,15):\n",
    "    print(testE.addLevel(i))"
   ]
  },
  {
   "cell_type": "code",
   "execution_count": 3,
   "id": "8cb10101-6958-459f-ac77-7e78676ccd22",
   "metadata": {},
   "outputs": [
    {
     "name": "stderr",
     "output_type": "stream",
     "text": [
      "The current directory does not have a password.\n",
      "The current directory does not have a password.\n"
     ]
    },
    {
     "name": "stdout",
     "output_type": "stream",
     "text": [
      "False\n"
     ]
    },
    {
     "name": "stderr",
     "output_type": "stream",
     "text": [
      "The current directory does not have a password.\n"
     ]
    },
    {
     "name": "stdout",
     "output_type": "stream",
     "text": [
      "False\n"
     ]
    },
    {
     "name": "stderr",
     "output_type": "stream",
     "text": [
      "The current directory does not have a password.\n"
     ]
    },
    {
     "name": "stdout",
     "output_type": "stream",
     "text": [
      "False\n"
     ]
    },
    {
     "name": "stderr",
     "output_type": "stream",
     "text": [
      "The current directory does not have a password.\n",
      "The current directory does not have a password.\n"
     ]
    },
    {
     "name": "stdout",
     "output_type": "stream",
     "text": [
      "False\n",
      "False\n"
     ]
    },
    {
     "name": "stderr",
     "output_type": "stream",
     "text": [
      "The current directory does not have a password.\n"
     ]
    },
    {
     "name": "stdout",
     "output_type": "stream",
     "text": [
      "False\n",
      "False\n"
     ]
    }
   ],
   "source": [
    "print(testE.addCommand(0, \"testCommand0\"))\n",
    "print(testE.addCommand(3, \"testCommand3\"))\n",
    "print(testE.addCommand(5, \"testCommand5\"))\n",
    "print(testE.addCommand(6, \"testCommand6\"))\n",
    "print(testE.addCommand(7, \"testCommand7\"))\n",
    "print(testE.addCommand(8, \"testCommand8\"))\n",
    "print(testE.addCommand(10, \"testCommand10\"))"
   ]
  },
  {
   "cell_type": "code",
   "execution_count": 4,
   "id": "918e0acf-353f-4b71-b9ea-174b95349acb",
   "metadata": {
    "scrolled": true
   },
   "outputs": [
    {
     "name": "stderr",
     "output_type": "stream",
     "text": [
      "The current directory does not have a password.\n",
      "The current directory does not have a password.\n",
      "The current directory does not have a password.\n"
     ]
    }
   ],
   "source": [
    "device1 = testE.addTrustedDevice(5, \"testDevice5\")\n",
    "device2 = testE.addTrustedDevice(2, \"testDevice2\")\n",
    "device3 = testE.addTrustedDevice(0, \"testDevice0\")"
   ]
  },
  {
   "cell_type": "code",
   "execution_count": 5,
   "id": "2dc6d6fb-513e-4094-9128-f39ed80bfdec",
   "metadata": {},
   "outputs": [
    {
     "name": "stderr",
     "output_type": "stream",
     "text": [
      "The current directory does not have a password.\n",
      "The current directory does not have a password.\n",
      "The current directory does not have a password.\n"
     ]
    }
   ],
   "source": [
    "testE.addPassword(6, \"password\")\n",
    "testE.addPassword(8, \"password2\")\n",
    "testE.addPassword(0, \"password0\")"
   ]
  },
  {
   "cell_type": "code",
   "execution_count": 6,
   "id": "2f77c433-9568-4582-9726-b7f29caaefe4",
   "metadata": {},
   "outputs": [
    {
     "name": "stderr",
     "output_type": "stream",
     "text": [
      "file \"D:\\Documents\\Programming\\Python\\Programs\\Tests\\piCar\\events\\events.ini\" has been modifed outside of this class.\n",
      "The current directory does not have a password.\n"
     ]
    }
   ],
   "source": [
    "testS = SecureEvents()"
   ]
  },
  {
   "cell_type": "code",
   "execution_count": 7,
   "id": "9ba801ec-5dce-4d8e-8c09-c9a9acf5f9f6",
   "metadata": {},
   "outputs": [
    {
     "name": "stderr",
     "output_type": "stream",
     "text": [
      "The current directory does not have a password.\n"
     ]
    },
    {
     "data": {
      "text/plain": [
       "'level 10'"
      ]
     },
     "execution_count": 7,
     "metadata": {},
     "output_type": "execute_result"
    }
   ],
   "source": [
    "testS.findLevel(\"testCommand10\")"
   ]
  },
  {
   "cell_type": "code",
   "execution_count": 8,
   "id": "114ab3b0-1c15-488a-b6f8-c5a460234067",
   "metadata": {
    "scrolled": true
   },
   "outputs": [
    {
     "name": "stderr",
     "output_type": "stream",
     "text": [
      "The current directory does not have a password.\n",
      "The current directory does not have a password.\n"
     ]
    },
    {
     "name": "stdout",
     "output_type": "stream",
     "text": [
      "True\n"
     ]
    }
   ],
   "source": [
    "print(testS.checkCommand(command = \"testCommand10\", password = \"password2\"))"
   ]
  },
  {
   "cell_type": "code",
   "execution_count": 9,
   "id": "2b795ae3-e5b0-444d-ae60-b5da3fc29320",
   "metadata": {
    "scrolled": true
   },
   "outputs": [
    {
     "name": "stdout",
     "output_type": "stream",
     "text": [
      "lKC4Device5-0dR9(d<\tC;g^:(KVbWX`TT7[5~!k|0ENG`s7g\u000b",
      "\r",
      "$]PkZSC5pQ3tth55s%{\n",
      "testDevice2\\^T2Mg2#qTk@MRah2<Q\t@<YncE@.zG\\@ihg r+jUlL8S\u000b",
      "%p?2OPvc0p;{zT!5j4_\n",
      "testDevice0lta^3_:mJp)KQ Xyh*i5;L|-6yVSc5>1Wy!~lD$8&yMvJ-$\u000b",
      "GZf~vvg%6}>e)WN`\n"
     ]
    }
   ],
   "source": [
    "print(device1[1])\n",
    "print(device2[1])\n",
    "print(device3[1])"
   ]
  },
  {
   "cell_type": "code",
   "execution_count": 10,
   "id": "51033b98-554a-4c0b-ac0c-dcd0931793ec",
   "metadata": {},
   "outputs": [
    {
     "data": {
      "text/plain": [
       "'4 57 136 98 50 219 231 149 60 193 135 12 90 215 97 44 196 164 222 223 4 163 12 117 110 44 156 85 184 0 190 21 15 181 41 24 156 21 169 110 233 196 222 135 18 235 230 138 90 97 55 52 123 120 207 130 39 175 150 135 166 129 136 32 245 135 72 132 140 99 39 196 189 217 238 211 39 120 194 127 23 138 68 99 158 194 172 241 244 192 108 108 220 19 2 244 87 41 47 57 91 22 28 234 113 185 118 154 81 185 27 94 5 251 17 222 212 99 220 26 165 55 105 21 39 51 228 49 138 48 247 82 34 199 208 118 63 253 164 36 95 160 44 170 56 123 68 106 225 227 73 22 35 69 203 70 176 6 54 87 97 162 209 12 239 3 78 204 66 17 247 254 14 101 136 181 107 226 211 107 30 204 105 50 50 216 204 42 15 50 93 39 143 66 164 150 74 102 224 32 189 174 66 24 35 7 65 99 159 211 33 162 119 205 15 79 149 7 23 229 56 183 135 248 246 146 11 5 131 94 248 172 202 54 60 132 60 99 183 176 226 6 193 16 120 232 218 133 34 50 185 255 192 171 224 133 111 30 39 237 243'"
      ]
     },
     "execution_count": 10,
     "metadata": {},
     "output_type": "execute_result"
    }
   ],
   "source": [
    "encryptSig = convertBytesToStr(rsa.encrypt(device1[1].encode(\"utf-8\"), device1[0]))\n",
    "encryptSig"
   ]
  },
  {
   "cell_type": "code",
   "execution_count": 11,
   "id": "74d9a3f1-1bd8-413a-924c-5ef10af91545",
   "metadata": {},
   "outputs": [
    {
     "data": {
      "text/plain": [
       "'7 248 192 98 196 175 219 207 11 114 39 77 222 31 151 237 144 99 4 204 246 29 12 179 92 93 208 236 231 64 212 106 81 64 192 245 66 120 3 105 140 14 193 255 157 189 168 189 235 129 31 162 170 8 212 50 254 29 112 166 238 151 188 245 232 241 78 129 194 233 90 157 181 117 104 117 170 169 21 92 247 138 46 78 191 85 112 245 56 163 11 77 63 244 164 102 185 154 84 25 242 39 217 184 117 159 104 223 27 109 196 5 70 66 20 189 178 235 175 112 77 113 158 87 72 180 106 92 153 79 48 3 14 209 19 38 45 232 104 111 243 81 63 159 235 112 178 59 236 97 53 196 152 191 198 205 204 118 46 245 40 239 71 243 171 111 29 176 3 92 145 208 13 73 104 184 7 11 119 53 219 192 107 209 155 38 48 239 238 115 80 41 107 145 251 247 105 101 235 203 122 214 95 216 114 190 168 48 143 31 212 235 65 116 190 225 86 238 70 158 59 50 50 84 26 179 181 64 34 108 31 88 221 5 177 151 79 121 229 97 141 237 177 139 186 196 206 11 8 130 16 73 96 8 120 160 190 203 122 78 230'"
      ]
     },
     "execution_count": 11,
     "metadata": {},
     "output_type": "execute_result"
    }
   ],
   "source": [
    "encryptSig2 = convertBytesToStr(rsa.encrypt(device2[1].encode(\"utf-8\"), device2[0]))\n",
    "encryptSig2"
   ]
  },
  {
   "cell_type": "code",
   "execution_count": 12,
   "id": "bf85e4db-e78d-44ad-aac9-767c34b4032c",
   "metadata": {},
   "outputs": [
    {
     "data": {
      "text/plain": [
       "'0 164 111 182 200 191 184 60 193 114 26 124 95 160 150 23 222 144 158 101 152 160 137 230 247 15 212 83 117 13 7 176 121 217 176 119 3 165 172 21 82 233 221 226 105 136 200 254 255 35 245 27 223 111 88 80 1 186 183 23 204 239 108 58 161 112 233 125 90 4 87 73 134 70 42 88 212 59 216 150 143 141 150 1 6 19 163 157 198 202 131 13 135 27 175 102 64 20 63 186 89 239 148 194 122 97 153 132 59 186 128 166 66 218 176 229 110 10 203 32 161 30 155 172 78 87 154 240 122 88 73 88 188 173 201 159 157 151 176 233 23 97 200 244 232 190 70 242 175 226 123 150 111 66 3 142 1 153 201 24 194 34 243 170 140 37 122 198 54 203 98 166 252 116 44 38 122 17 143 92 143 178 179 251 168 9 131 212 124 203 98 10 232 53 142 101 136 226 145 197 162 94 28 164 21 91 218 4 106 77 5 196 110 143 221 192 121 141 184 38 4 252 139 207 172 247 29 109 115 55 182 197 47 22 137 224 153 46 236 9 135 150 150 32 112 28 33 66 147 81 165 157 196 80 101 88 70 59 252 172 184'"
      ]
     },
     "execution_count": 12,
     "metadata": {},
     "output_type": "execute_result"
    }
   ],
   "source": [
    "encryptSig3 = convertBytesToStr(rsa.encrypt(device3[1].encode(\"utf-8\"), device3[0]))\n",
    "encryptSig3"
   ]
  },
  {
   "cell_type": "code",
   "execution_count": 13,
   "id": "ba4a44d2-465c-4fe3-b766-fefbc372f3bd",
   "metadata": {
    "scrolled": true
   },
   "outputs": [
    {
     "name": "stderr",
     "output_type": "stream",
     "text": [
      "The current directory does not have a password.\n",
      "The current directory does not have a password.\n"
     ]
    },
    {
     "name": "stdout",
     "output_type": "stream",
     "text": [
      "True\n"
     ]
    }
   ],
   "source": [
    "print(testS.checkCommand(command=\"testCommand5\", deviceName = \"testDevice5\", encryptedDeviceSigniture=encryptSig))"
   ]
  },
  {
   "cell_type": "code",
   "execution_count": 14,
   "id": "63ef3e80-8f6c-49da-9676-833866947c5a",
   "metadata": {},
   "outputs": [
    {
     "name": "stderr",
     "output_type": "stream",
     "text": [
      "The current directory does not have a password.\n",
      "The current directory does not have a password.\n"
     ]
    },
    {
     "name": "stdout",
     "output_type": "stream",
     "text": [
      "True\n"
     ]
    }
   ],
   "source": [
    "print(testS.checkCommand(command=\"testCommand5\", deviceName = \"testDevice2\", encryptedDeviceSigniture=encryptSig2))"
   ]
  },
  {
   "cell_type": "code",
   "execution_count": 19,
   "id": "36dc3f8a-7efd-4e39-80f6-c02e195a452c",
   "metadata": {},
   "outputs": [
    {
     "name": "stderr",
     "output_type": "stream",
     "text": [
      "The current directory does not have a password.\n",
      "The current directory does not have a password.\n"
     ]
    },
    {
     "name": "stdout",
     "output_type": "stream",
     "text": [
      "Either the password or the signiture does not match the level 0 requirement\n",
      "False\n"
     ]
    }
   ],
   "source": [
    "print(testS.checkCommand(command=\"testCommand0\", password = \"password0\", deviceName = \"testDevice0\",\n",
    "                        encryptedDeviceSigniture = encryptSig3))"
   ]
  },
  {
   "cell_type": "code",
   "execution_count": null,
   "id": "dee3bd74-82d5-44fb-aadd-ce23680fc64b",
   "metadata": {},
   "outputs": [],
   "source": []
  }
 ],
 "metadata": {
  "kernelspec": {
   "display_name": "Python 3 (ipykernel)",
   "language": "python",
   "name": "python3"
  },
  "language_info": {
   "codemirror_mode": {
    "name": "ipython",
    "version": 3
   },
   "file_extension": ".py",
   "mimetype": "text/x-python",
   "name": "python",
   "nbconvert_exporter": "python",
   "pygments_lexer": "ipython3",
   "version": "3.11.7"
  }
 },
 "nbformat": 4,
 "nbformat_minor": 5
}
