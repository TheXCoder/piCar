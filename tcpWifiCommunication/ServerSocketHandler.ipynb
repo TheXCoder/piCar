{
 "cells": [
  {
   "cell_type": "code",
   "execution_count": 1,
   "id": "7eea8f08-79ce-4da6-b287-e7eccf6f5c50",
   "metadata": {},
   "outputs": [],
   "source": [
    "from encrypted_server_handler import EncryptedServerHandler\n",
    "from encrypted_socket_handler import EncryptedSocketHandler\n",
    "from misc import findDevice"
   ]
  },
  {
   "cell_type": "code",
   "execution_count": 2,
   "id": "cef6a031-e8b4-4b84-970f-434587c5cf59",
   "metadata": {},
   "outputs": [
    {
     "name": "stdout",
     "output_type": "stream",
     "text": [
      "device name ConsensualEcstasy\n",
      "device IP \n"
     ]
    },
    {
     "data": {
      "text/plain": [
       "('ConsensualEcstasy', '192.168.56.1')"
      ]
     },
     "execution_count": 2,
     "metadata": {},
     "output_type": "execute_result"
    }
   ],
   "source": [
    "findDevice(\"ConsensualEcstasy\")"
   ]
  },
  {
   "cell_type": "code",
   "execution_count": 3,
   "id": "5d1c92ec-6a8e-42a5-a480-40bc2309636d",
   "metadata": {},
   "outputs": [
    {
     "data": {
      "text/plain": [
       "<encrypted_server_handler.EncryptedServerHandler at 0x2c4c7b64610>"
      ]
     },
     "execution_count": 3,
     "metadata": {},
     "output_type": "execute_result"
    }
   ],
   "source": [
    "server = EncryptedServerHandler(5050)\n",
    "server"
   ]
  },
  {
   "cell_type": "code",
   "execution_count": 4,
   "id": "1651405e-4ff5-4781-affb-5c6c45c71eaf",
   "metadata": {},
   "outputs": [
    {
     "name": "stdout",
     "output_type": "stream",
     "text": [
      "device name \n",
      "device IP 192.168.56.1\n",
      "my message instance has been created\n",
      "creating new RSA keys\n",
      "RSA keys created\n",
      "encrypted socket handler instance has been created\n"
     ]
    },
    {
     "data": {
      "text/plain": [
       "('ConsensualEcstasy', '192.168.56.1', 51868)"
      ]
     },
     "execution_count": 4,
     "metadata": {},
     "output_type": "execute_result"
    }
   ],
   "source": [
    "server.acceptADevice()"
   ]
  },
  {
   "cell_type": "code",
   "execution_count": 6,
   "id": "dc9d8dfb-8a68-42b9-89a6-102b80017d2b",
   "metadata": {},
   "outputs": [
    {
     "data": {
      "text/plain": [
       "{'name': 'ConsensualEcstasy',\n",
       " 'IP Address': '192.168.56.1',\n",
       " 'comm': <encrypted_socket_handler.EncryptedSocketHandler at 0x2c4c7e46bd0>,\n",
       " 'port': 51868}"
      ]
     },
     "execution_count": 6,
     "metadata": {},
     "output_type": "execute_result"
    }
   ],
   "source": [
    "deviceInfo : dict = server.getDevice(\"ConsensualEcstasy\")\n",
    "deviceInfo"
   ]
  },
  {
   "cell_type": "code",
   "execution_count": 8,
   "id": "6c638e42-e381-4802-8327-7c8a7dbbd767",
   "metadata": {},
   "outputs": [
    {
     "data": {
      "text/plain": [
       "<encrypted_socket_handler.EncryptedSocketHandler at 0x2c4c7e46bd0>"
      ]
     },
     "execution_count": 8,
     "metadata": {},
     "output_type": "execute_result"
    }
   ],
   "source": [
    "serverComm : EncryptedSocketHandler = deviceInfo[\"comm\"]\n",
    "serverComm"
   ]
  },
  {
   "cell_type": "code",
   "execution_count": 15,
   "id": "70b1f351-96ef-4c2d-8d53-a196d3e89358",
   "metadata": {
    "scrolled": true
   },
   "outputs": [],
   "source": [
    "for message in serverComm.send():\n",
    "    None"
   ]
  },
  {
   "cell_type": "code",
   "execution_count": 13,
   "id": "97d11e0d-6c51-4423-9b32-ff20639e6c8b",
   "metadata": {},
   "outputs": [
    {
     "data": {
      "text/plain": [
       "{'command': None, 'ID': None}"
      ]
     },
     "execution_count": 13,
     "metadata": {},
     "output_type": "execute_result"
    }
   ],
   "source": [
    "serverComm.recv()"
   ]
  },
  {
   "cell_type": "code",
   "execution_count": null,
   "id": "a62da283-e8f7-47b2-8daa-a4f87d74dd7f",
   "metadata": {},
   "outputs": [],
   "source": [
    "serverComm.echo(\"helloWorld\")"
   ]
  }
 ],
 "metadata": {
  "kernelspec": {
   "display_name": "Python 3 (ipykernel)",
   "language": "python",
   "name": "python3"
  },
  "language_info": {
   "codemirror_mode": {
    "name": "ipython",
    "version": 3
   },
   "file_extension": ".py",
   "mimetype": "text/x-python",
   "name": "python",
   "nbconvert_exporter": "python",
   "pygments_lexer": "ipython3",
   "version": "3.11.7"
  }
 },
 "nbformat": 4,
 "nbformat_minor": 5
}
