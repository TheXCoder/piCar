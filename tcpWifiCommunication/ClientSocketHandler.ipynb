{
 "cells": [
  {
   "cell_type": "code",
   "execution_count": 1,
   "id": "dd638edc-02da-4f81-b3d7-92677821faf4",
   "metadata": {},
   "outputs": [],
   "source": [
    "from encrypted_client_handler import EncryptedClientHandler\n",
    "from encrypted_socket_handler import EncryptedSocketHandler\n",
    "from misc import findDevice"
   ]
  },
  {
   "cell_type": "code",
   "execution_count": 2,
   "id": "a8dbedb8-d5d3-45a9-923f-e618ebaf7a5a",
   "metadata": {},
   "outputs": [
    {
     "name": "stdout",
     "output_type": "stream",
     "text": [
      "device name ConsensualEcstasy\n",
      "device IP \n"
     ]
    },
    {
     "data": {
      "text/plain": [
       "('ConsensualEcstasy', '192.168.56.1')"
      ]
     },
     "execution_count": 2,
     "metadata": {},
     "output_type": "execute_result"
    }
   ],
   "source": [
    "findDevice(\"ConsensualEcstasy\", isLocal=True)"
   ]
  },
  {
   "cell_type": "code",
   "execution_count": 3,
   "id": "3a3f9abd-b9e1-4372-ae22-01e0b51af058",
   "metadata": {},
   "outputs": [
    {
     "data": {
      "text/plain": [
       "<encrypted_client_handler.EncryptedClientHandler at 0x1c10100cb50>"
      ]
     },
     "execution_count": 3,
     "metadata": {},
     "output_type": "execute_result"
    }
   ],
   "source": [
    "client = EncryptedClientHandler()\n",
    "client"
   ]
  },
  {
   "cell_type": "code",
   "execution_count": 4,
   "id": "c4735947-fc13-4f2d-b641-66639f7b9e56",
   "metadata": {},
   "outputs": [
    {
     "name": "stdout",
     "output_type": "stream",
     "text": [
      "device name \n",
      "device IP 192.168.56.1\n",
      "Server has refused to connect. Trying again\n",
      "Connected to server\n",
      "my message instance has been created\n",
      "creating new RSA keys\n",
      "RSA keys created\n",
      "encrypted socket handler instance has been created\n"
     ]
    },
    {
     "data": {
      "text/plain": [
       "('ConsensualEcstasy', '192.168.56.1', 5050)"
      ]
     },
     "execution_count": 4,
     "metadata": {},
     "output_type": "execute_result"
    }
   ],
   "source": [
    "client.connect(\"192.168.56.1\", 5050)"
   ]
  },
  {
   "cell_type": "code",
   "execution_count": 10,
   "id": "600ed7dd-e874-499b-b422-bf95605d5725",
   "metadata": {},
   "outputs": [
    {
     "data": {
      "text/plain": [
       "{'name': 'ConsensualEcstasy',\n",
       " 'IP Address': '192.168.56.1',\n",
       " 'comm': <encrypted_socket_handler.EncryptedSocketHandler at 0x1c10100da50>,\n",
       " 'port': 5050}"
      ]
     },
     "execution_count": 10,
     "metadata": {},
     "output_type": "execute_result"
    }
   ],
   "source": [
    "hostInfo : dict = client.getHost()\n",
    "hostInfo"
   ]
  },
  {
   "cell_type": "code",
   "execution_count": null,
   "id": "f617fbac-afe4-41d5-8e7c-96a1a146e260",
   "metadata": {},
   "outputs": [],
   "source": [
    "clientComm : EncryptedSocketHandler = hostInfo[\"comm\"]\n",
    "clientComm"
   ]
  },
  {
   "cell_type": "code",
   "execution_count": 17,
   "id": "1c43ddd3-dc93-401f-ac72-e0c5b5843a1f",
   "metadata": {},
   "outputs": [
    {
     "name": "stderr",
     "output_type": "stream",
     "text": [
      "Messages cannot be encrypted. Anyone can view the message\n"
     ]
    },
    {
     "data": {
      "text/plain": [
       "True"
      ]
     },
     "execution_count": 17,
     "metadata": {},
     "output_type": "execute_result"
    }
   ],
   "source": [
    "for message in clientComm.send():\n",
    "    None"
   ]
  },
  {
   "cell_type": "code",
   "execution_count": 11,
   "id": "7b2779e6-e228-40b1-9910-681a388ae35e",
   "metadata": {},
   "outputs": [
    {
     "data": {
      "text/plain": [
       "{'command': None, 'ID': None}"
      ]
     },
     "execution_count": 11,
     "metadata": {},
     "output_type": "execute_result"
    }
   ],
   "source": [
    "clientComm.recv()"
   ]
  },
  {
   "cell_type": "code",
   "execution_count": 16,
   "id": "14b01d9c-410d-4aad-8ffc-1394974ec2c0",
   "metadata": {},
   "outputs": [],
   "source": [
    "clientComm.echo(\"helloWorld\")"
   ]
  },
  {
   "cell_type": "code",
   "execution_count": null,
   "id": "e7ffbfbb-ff8c-43c9-a177-81fe00e11a3c",
   "metadata": {},
   "outputs": [],
   "source": []
  }
 ],
 "metadata": {
  "kernelspec": {
   "display_name": "Python 3 (ipykernel)",
   "language": "python",
   "name": "python3"
  },
  "language_info": {
   "codemirror_mode": {
    "name": "ipython",
    "version": 3
   },
   "file_extension": ".py",
   "mimetype": "text/x-python",
   "name": "python",
   "nbconvert_exporter": "python",
   "pygments_lexer": "ipython3",
   "version": "3.11.7"
  }
 },
 "nbformat": 4,
 "nbformat_minor": 5
}
