{
 "cells": [
  {
   "cell_type": "code",
   "execution_count": 11,
   "id": "c7b76baf-1438-451e-a123-deaecfac3018",
   "metadata": {},
   "outputs": [],
   "source": [
    "from my_message import MyMessage\n",
    "from encrypted_my_message import EncryptedMyMessage"
   ]
  },
  {
   "cell_type": "code",
   "execution_count": 9,
   "id": "cb2e36a5-2b9d-4190-8459-e6b758049f47",
   "metadata": {},
   "outputs": [],
   "source": [
    "def dumpStuff(obj):\n",
    "  for attr in dir(obj):\n",
    "    print(\"obj.%s = %r\" % (attr, getattr(obj, attr)))"
   ]
  },
  {
   "cell_type": "code",
   "execution_count": 10,
   "id": "8c5c490d-9df9-4a8f-b345-5b3ab504f4c7",
   "metadata": {},
   "outputs": [
    {
     "name": "stdout",
     "output_type": "stream",
     "text": [
      "my message instance has been created\n",
      "creating new RSA keys\n",
      "RSA keys created\n",
      "my message instance has been created\n",
      "creating new RSA keys\n",
      "RSA keys created\n"
     ]
    },
    {
     "data": {
      "text/plain": [
       "<encrypted_my_message.EncryptedMyMessage at 0x1e72e71a4d0>"
      ]
     },
     "execution_count": 10,
     "metadata": {},
     "output_type": "execute_result"
    }
   ],
   "source": [
    "etest, etest2 = EncryptedMyMessage(), EncryptedMyMessage()\n",
    "etest"
   ]
  },
  {
   "cell_type": "code",
   "execution_count": 4,
   "id": "bc146101-fa66-4527-a1fc-fcc5b86180de",
   "metadata": {},
   "outputs": [
    {
     "name": "stdout",
     "output_type": "stream",
     "text": [
      "my message instance has been created\n",
      "my message instance has been created\n"
     ]
    },
    {
     "data": {
      "text/plain": [
       "<my_message.MyMessage at 0x1e72ea15d50>"
      ]
     },
     "execution_count": 4,
     "metadata": {},
     "output_type": "execute_result"
    }
   ],
   "source": [
    "test, test2 = MyMessage(), MyMessage()\n",
    "test"
   ]
  },
  {
   "cell_type": "code",
   "execution_count": 5,
   "id": "6c16abed-ffc4-40ac-9d60-7031079142bf",
   "metadata": {},
   "outputs": [
    {
     "data": {
      "text/plain": [
       "{'etest': [], 'etest2': [], 'test': []}"
      ]
     },
     "execution_count": 5,
     "metadata": {},
     "output_type": "execute_result"
    }
   ],
   "source": [
    "messageList : dict = {}\n",
    "messageList[\"etest\"] = []\n",
    "messageList[\"etest2\"] = []\n",
    "messageList[\"test\"] = []\n",
    "messageList"
   ]
  },
  {
   "cell_type": "code",
   "execution_count": 6,
   "id": "8a6a9e8c-51c8-4290-a9fa-5773e760d27e",
   "metadata": {
    "scrolled": true
   },
   "outputs": [
    {
     "name": "stderr",
     "output_type": "stream",
     "text": [
      "Messages cannot be encrypted. Anyone can view the message\n"
     ]
    },
    {
     "name": "stdout",
     "output_type": "stream",
     "text": [
      "current message size533codeutf-8;\n",
      "current message {\"command\": \"newRSA\", \"ID\": 0, \"data\": {\"publicKey\": \"-----BEGIN RSA PUBLIC KEY-----\\nMIIBCgKCAQEAjrNHwXg08Gkk49+Xqf1ozx/yy5lg0jKNf64tuMrqY1bSskuZbzSx\\n4sn6ksZ3imwo1LnCH6+d7h5BL+U4Uz1vJnW3w7SE65oBuHWsOZHXJ6UnmMT9pj7n\\nAnRrIZT2Hz+0/M1ghxHp7LXoZeatHZzBf32dUsAYsIDEQB+J/4UA8v3dObNp7vXU\\nORj0EGX1rL74paLXom1CzzaCn4/Hv1UixIdklXNkVIASR+/XaZ0D7fw8aIcSB2jp\\nFk/nG3c//sF5ANcJtGX1c8txjI9qb+mwr19U5N23GtTLwe3AfnV66YZ1957jWCLw\\n90XXG9Z1GqQh8BbOMOQGPA/dfJH92MIMlwIDAQAB\\n-----END RSA PUBLIC KEY-----\\n\", \"encoding\": \"utf-8\"}, \"hasPriority\": true}\n",
      "recieving an RSA key\n",
      "sending a accepting message\n"
     ]
    }
   ],
   "source": [
    "for message in etest.send():\n",
    "    messageList[\"etest\"].append(message)\n",
    "    print(\"current message\", message)\n",
    "    etest2.recv(message)\n",
    "    "
   ]
  },
  {
   "cell_type": "code",
   "execution_count": 7,
   "id": "9f94bc07-7158-4ef7-a0cd-32f35bbcdbb4",
   "metadata": {},
   "outputs": [
    {
     "name": "stderr",
     "output_type": "stream",
     "text": [
      "Messages cannot be encrypted. Anyone can view the message\n",
      "Messages cannot be encrypted. Anyone can view the message\n"
     ]
    },
    {
     "name": "stdout",
     "output_type": "stream",
     "text": [
      "current message size90codeutf-8;\n",
      "current message {\"command\": \"accept\", \"ID\": 0, \"data\": {\"recievedCommand\": \"newRSA\"}, \"hasPriority\": true}\n",
      "current message size533codeutf-8;\n",
      "current message {\"command\": \"newRSA\", \"ID\": 0, \"data\": {\"publicKey\": \"-----BEGIN RSA PUBLIC KEY-----\\nMIIBCgKCAQEAhMYe/S5woUdhEllFCy1pnnStej0/1ZottjWS7sOZbazmFrhmjep8\\nfZw4sgOctipD7X20/ZxOFLIPsWreCE1isUp7h8QIJpLb7gZkLa9/0ivA4BgfL/wK\\nFzPr/xZ38FS/CKlySCK4oEhDqmyL9WD2FCTTawTsWjW9ix9M7xBXNnreqHP93szN\\nkCF7igJYKhxCF32yG2Y1EsXF5pXFPYo3vev9v0vfA7A7xjwkULXu9Q0l+WDq8zqt\\nVEYPSqlq0yQyExlPxKATsU+JO61VQcmME4y9C5zDfHB5wNOmK+HwXkW3tSzUMuNs\\n3Pv51nlM/mSNn9WMhJ99f7ss+czE6uU0PQIDAQAB\\n-----END RSA PUBLIC KEY-----\\n\", \"encoding\": \"utf-8\"}, \"hasPriority\": true}\n",
      "recieving an RSA key\n",
      "sending a accepting message\n"
     ]
    }
   ],
   "source": [
    "for message in etest2.send():\n",
    "    messageList[\"etest2\"].append(message)\n",
    "    print(\"current message\", message)\n",
    "    etest.recv(message)\n",
    "    "
   ]
  },
  {
   "cell_type": "code",
   "execution_count": 20,
   "id": "e97d95d6-fd53-4e61-95a7-2a6eb9f8a2d6",
   "metadata": {},
   "outputs": [],
   "source": [
    "etest.echo(\"This is a test of skill\")"
   ]
  },
  {
   "cell_type": "code",
   "execution_count": 9,
   "id": "630417a7-6539-4af2-9a33-e1758cd9a8bf",
   "metadata": {},
   "outputs": [
    {
     "name": "stdout",
     "output_type": "stream",
     "text": [
      "obj._AESExists = <bound method EncryptedMyMessage._AESExists of <encrypted_my_message.EncryptedMyMessage object at 0x000001FB83D64CD0>>\n",
      "obj._AESKESIZE = 32\n",
      "obj._ENCODINGMESSAGEENCODING = 'utf-8'\n",
      "obj._ENCODINGMESSAGESIZE = 20\n",
      "obj._EncryptedMyMessage__aesCipher = None\n",
      "obj._EncryptedMyMessage__aesKey = None\n",
      "obj._EncryptedMyMessage__recieveKey = PrivateKey(16249958702742423118543995659698101223359097511187249763399071888236024003804359028808877269369619555476303175945023865004282132586613870884991791075470157832964817041942809785578780260421106942761895109202859708683960086841280311903377126852739547990506350334689772070710240196999317318014307620370503958840096846793854514972366976943632732181147164124755073833975120127059397760421662627186260823006616970037610990085310882353613995719458316907695552145002263913062401426391238952123097428236987372895580105547476954165028626469518940685768020763982023473418685719666712267118361467073333937074878767152288331635173, 65537, 16119784475680766769653512455991164635748075856345354252072881907899360552593633965255088408628068213995535683271097113259050460102246684681555248506926864229926738873167614473962001042014388888152285347811103886063774862531475588407500400856772563497853103559193302437722418415358036185338936626497807286431801250493706761399113516800063170961520236350047318499136737788667268326969432679329345163465608456350029305426798685224802872312439613861893406592620552233126070882066510133375533098687732635507129536378201353665088030941785851008798302345426878980562362221274319014455126832645548258542157890162215209027441, 2896039573315806946893152804959233765604112562317121249595371627383975464024682388335904713779962760570430134207270699419393457132127708934020336979362201045944247520222205736676601807521827163150493505261648164236038139970906702123999598819651525766283240030791437720110964468801512648859840615094847268134262929582611566215247, 5611096910577471495930046238213479808242690795621817567133486482819952657625028327380909102876992505640760156136924117659318716631206707389563425582128293448203617051849180153562324500796823825486138893455993680888608629390650852841414524481531291636579560661632915478525736548925240254859)\n",
      "obj._EncryptedMyMessage__sendKey = PublicKey(20556660385467472629961675702894308786749654509617391757890427936397823844167368729795730647938551409947396356500154898239183130906954146985084221700704053895762733246843231788536177588276843678501236926466229908209606869313359347007153378313294910583928603504410795444568958229654768553052518129511906254220481088174100156932215176358545757590633578767968492013222095464509864255682664857589304499085072554430861760041398205346460341440089401642265950438177930227464813784966046589891643814622375844490280030782177080708422362526055794541179167843120345416540868136627906536522978497609163605137412823378370684350039, 65537)\n",
      "obj._MAXENCRYPTIONSENDTIMES = 3\n",
      "obj._MyMessage__commandConvertToEcho = <bound method MyMessage.__commandConvertToEcho of <encrypted_my_message.EncryptedMyMessage object at 0x000001FB83D64CD0>>\n",
      "obj._MyMessage__getCallableOnly = <bound method MyMessage.__getCallableOnly of <encrypted_my_message.EncryptedMyMessage object at 0x000001FB83D64CD0>>\n",
      "obj._MyMessage__getNewInstanceID = <bound method MyMessage.__getNewInstanceID of <encrypted_my_message.EncryptedMyMessage object at 0x000001FB83D64CD0>>\n",
      "obj._MyMessage__instanceCount = 4\n",
      "obj._MyMessage__instanceID = 0\n",
      "obj._MyMessage__instanceIDs = {0: <encrypted_my_message.EncryptedMyMessage object at 0x000001FB83D64CD0>, 1: <encrypted_my_message.EncryptedMyMessage object at 0x000001FB83EAE650>, 2: <my_message.MyMessage object at 0x000001FB83F77E90>, 3: <my_message.MyMessage object at 0x000001FB83F76990>}\n",
      "obj._MyMessage__removeInstanceID = <bound method MyMessage.__removeInstanceID of <encrypted_my_message.EncryptedMyMessage object at 0x000001FB83D64CD0>>\n",
      "obj._RESKEYSIZE = 2048\n",
      "obj._RSAExists = <bound method EncryptedMyMessage._RSAExists of <encrypted_my_message.EncryptedMyMessage object at 0x000001FB83D64CD0>>\n",
      "obj.__annotations__ = {'_MyMessage__instanceCount': <class 'int'>, '_MyMessage__instanceIDs': <class 'dict'>}\n",
      "obj.__class__ = <class 'encrypted_my_message.EncryptedMyMessage'>\n",
      "obj.__del__ = <bound method MyMessage.__del__ of <encrypted_my_message.EncryptedMyMessage object at 0x000001FB83D64CD0>>\n",
      "obj.__delattr__ = <method-wrapper '__delattr__' of EncryptedMyMessage object at 0x000001FB83D64CD0>\n",
      "obj.__dict__ = {'_nextMessageEncryptionType': None, '_canSendEncryption': True, '_numberOfTimesTriedToSendEncryption': 0, '_EncryptedMyMessage__sendKey': PublicKey(20556660385467472629961675702894308786749654509617391757890427936397823844167368729795730647938551409947396356500154898239183130906954146985084221700704053895762733246843231788536177588276843678501236926466229908209606869313359347007153378313294910583928603504410795444568958229654768553052518129511906254220481088174100156932215176358545757590633578767968492013222095464509864255682664857589304499085072554430861760041398205346460341440089401642265950438177930227464813784966046589891643814622375844490280030782177080708422362526055794541179167843120345416540868136627906536522978497609163605137412823378370684350039, 65537), '_EncryptedMyMessage__recieveKey': PrivateKey(16249958702742423118543995659698101223359097511187249763399071888236024003804359028808877269369619555476303175945023865004282132586613870884991791075470157832964817041942809785578780260421106942761895109202859708683960086841280311903377126852739547990506350334689772070710240196999317318014307620370503958840096846793854514972366976943632732181147164124755073833975120127059397760421662627186260823006616970037610990085310882353613995719458316907695552145002263913062401426391238952123097428236987372895580105547476954165028626469518940685768020763982023473418685719666712267118361467073333937074878767152288331635173, 65537, 16119784475680766769653512455991164635748075856345354252072881907899360552593633965255088408628068213995535683271097113259050460102246684681555248506926864229926738873167614473962001042014388888152285347811103886063774862531475588407500400856772563497853103559193302437722418415358036185338936626497807286431801250493706761399113516800063170961520236350047318499136737788667268326969432679329345163465608456350029305426798685224802872312439613861893406592620552233126070882066510133375533098687732635507129536378201353665088030941785851008798302345426878980562362221274319014455126832645548258542157890162215209027441, 2896039573315806946893152804959233765604112562317121249595371627383975464024682388335904713779962760570430134207270699419393457132127708934020336979362201045944247520222205736676601807521827163150493505261648164236038139970906702123999598819651525766283240030791437720110964468801512648859840615094847268134262929582611566215247, 5611096910577471495930046238213479808242690795621817567133486482819952657625028327380909102876992505640760156136924117659318716631206707389563425582128293448203617051849180153562324500796823825486138893455993680888608629390650852841414524481531291636579560661632915478525736548925240254859), '_EncryptedMyMessage__aesKey': None, '_EncryptedMyMessage__aesCipher': None, '_isBoss': {'currentBossNumber': None, 'recievedBossNumber': None, 'isBoss': None}, '_MyMessage__instanceID': 0, '_logger': <Logger myMessage0 (WARNING)>, '_eventsDictionary': {}, '_commandQue': [{'command': 'accept', 'ID': 0, 'data': {'recievedCommand': 'newRSA'}, 'hasPriority': True}, {'command': 'echo', 'ID': None, 'data': {'message': 'hello eWorld', 'encoding': None}, 'hasPriority': False}], '_commandIDs': {0: <command.Command object at 0x000001FB83A5A050>}, '_currentMessageSize': 0, '_currentMessageEncoding': ''}\n",
      "obj.__dir__ = <built-in method __dir__ of EncryptedMyMessage object at 0x000001FB83D64CD0>\n",
      "obj.__doc__ = '\\n    A better MyMessage for a better future\\n    Keeps message private via encryption\\n\\n    \\n\\nA class to simplify sending messages between devices\\n\\n    ===========Important information===========\\n    ===========================================\\n\\n    eventsDictionary\\n    ----------------\\n    items in dictionary requirement {[str] command name : [function(dict | None) -> int, dict|None]} a valid function that has\\n    _________________________________________________________________________________________________________________________\\n    1) one parameter that will be used to pass command data into as a dictionary or None if nothing is being passed\\n    2) return a bool value that determines if accept/decline (True/False) will be sent function can more than one value at a time, the rest will be packaged and sent in the accept/decline message as None if no additional information is being sent or a dictionary with the the additional information\\n\\n    '\n",
      "obj.__eq__ = <method-wrapper '__eq__' of EncryptedMyMessage object at 0x000001FB83D64CD0>\n",
      "obj.__format__ = <built-in method __format__ of EncryptedMyMessage object at 0x000001FB83D64CD0>\n",
      "obj.__ge__ = <method-wrapper '__ge__' of EncryptedMyMessage object at 0x000001FB83D64CD0>\n",
      "obj.__getattribute__ = <method-wrapper '__getattribute__' of EncryptedMyMessage object at 0x000001FB83D64CD0>\n",
      "obj.__getstate__ = <built-in method __getstate__ of EncryptedMyMessage object at 0x000001FB83D64CD0>\n",
      "obj.__gt__ = <method-wrapper '__gt__' of EncryptedMyMessage object at 0x000001FB83D64CD0>\n",
      "obj.__hash__ = <method-wrapper '__hash__' of EncryptedMyMessage object at 0x000001FB83D64CD0>\n",
      "obj.__init__ = <bound method EncryptedMyMessage.__init__ of <encrypted_my_message.EncryptedMyMessage object at 0x000001FB83D64CD0>>\n",
      "obj.__init_subclass__ = <built-in method __init_subclass__ of type object at 0x000001FB8285BBF0>\n",
      "obj.__le__ = <method-wrapper '__le__' of EncryptedMyMessage object at 0x000001FB83D64CD0>\n",
      "obj.__lt__ = <method-wrapper '__lt__' of EncryptedMyMessage object at 0x000001FB83D64CD0>\n",
      "obj.__module__ = 'encrypted_my_message'\n",
      "obj.__ne__ = <method-wrapper '__ne__' of EncryptedMyMessage object at 0x000001FB83D64CD0>\n",
      "obj.__new__ = <built-in method __new__ of type object at 0x00007FFD3D84C330>\n",
      "obj.__reduce__ = <built-in method __reduce__ of EncryptedMyMessage object at 0x000001FB83D64CD0>\n",
      "obj.__reduce_ex__ = <built-in method __reduce_ex__ of EncryptedMyMessage object at 0x000001FB83D64CD0>\n",
      "obj.__repr__ = <method-wrapper '__repr__' of EncryptedMyMessage object at 0x000001FB83D64CD0>\n",
      "obj.__setattr__ = <method-wrapper '__setattr__' of EncryptedMyMessage object at 0x000001FB83D64CD0>\n",
      "obj.__sizeof__ = <built-in method __sizeof__ of EncryptedMyMessage object at 0x000001FB83D64CD0>\n",
      "obj.__str__ = <method-wrapper '__str__' of EncryptedMyMessage object at 0x000001FB83D64CD0>\n",
      "obj.__subclasshook__ = <built-in method __subclasshook__ of type object at 0x000001FB8285BBF0>\n",
      "obj.__weakref__ = None\n",
      "obj._acceptDecline = <bound method MyMessage._acceptDecline of <encrypted_my_message.EncryptedMyMessage object at 0x000001FB83D64CD0>>\n",
      "obj._addToQue = <bound method MyMessage._addToQue of <encrypted_my_message.EncryptedMyMessage object at 0x000001FB83D64CD0>>\n",
      "obj._canSendEncryption = True\n",
      "obj._checkCanMakeAES = <bound method EncryptedMyMessage._checkCanMakeAES of <encrypted_my_message.EncryptedMyMessage object at 0x000001FB83D64CD0>>\n",
      "obj._commandIDs = {0: <command.Command object at 0x000001FB83A5A050>}\n",
      "obj._commandQue = [{'command': 'accept', 'ID': 0, 'data': {'recievedCommand': 'newRSA'}, 'hasPriority': True}, {'command': 'echo', 'ID': None, 'data': {'message': 'hello eWorld', 'encoding': None}, 'hasPriority': False}]\n",
      "obj._currentMessageEncoding = ''\n",
      "obj._currentMessageSize = 0\n",
      "obj._eventsDictionary = {}\n",
      "obj._generateAESKey = <bound method EncryptedMyMessage._generateAESKey of <encrypted_my_message.EncryptedMyMessage object at 0x000001FB83D64CD0>>\n",
      "obj._generateBossNumber = <bound method EncryptedMyMessage._generateBossNumber of <encrypted_my_message.EncryptedMyMessage object at 0x000001FB83D64CD0>>\n",
      "obj._getAES = <bound method EncryptedMyMessage._getAES of <encrypted_my_message.EncryptedMyMessage object at 0x000001FB83D64CD0>>\n",
      "obj._getAcceptAndDecline = <bound method MyMessage._getAcceptAndDecline of <encrypted_my_message.EncryptedMyMessage object at 0x000001FB83D64CD0>>\n",
      "obj._getBossNumber = <bound method EncryptedMyMessage._getBossNumber of <encrypted_my_message.EncryptedMyMessage object at 0x000001FB83D64CD0>>\n",
      "obj._getCommandMessage = <bound method MyMessage._getCommandMessage of <encrypted_my_message.EncryptedMyMessage object at 0x000001FB83D64CD0>>\n",
      "obj._getDecryptedMessage = <bound method EncryptedMyMessage._getDecryptedMessage of <encrypted_my_message.EncryptedMyMessage object at 0x000001FB83D64CD0>>\n",
      "obj._getEncodingMessage = <bound method EncryptedMyMessage._getEncodingMessage of <encrypted_my_message.EncryptedMyMessage object at 0x000001FB83D64CD0>>\n",
      "obj._getFunctionReturns = <bound method MyMessage._getFunctionReturns of <encrypted_my_message.EncryptedMyMessage object at 0x000001FB83D64CD0>>\n",
      "obj._getMessageFormat = <bound method MyMessage._getMessageFormat of <encrypted_my_message.EncryptedMyMessage object at 0x000001FB83D64CD0>>\n",
      "obj._getMessageToSend = <bound method MyMessage._getMessageToSend of <encrypted_my_message.EncryptedMyMessage object at 0x000001FB83D64CD0>>\n",
      "obj._getNewID = <bound method MyMessage._getNewID of <encrypted_my_message.EncryptedMyMessage object at 0x000001FB83D64CD0>>\n",
      "obj._getNewRSAEncryption = <bound method EncryptedMyMessage._getNewRSAEncryption of <encrypted_my_message.EncryptedMyMessage object at 0x000001FB83D64CD0>>\n",
      "obj._getRSA = <bound method EncryptedMyMessage._getRSA of <encrypted_my_message.EncryptedMyMessage object at 0x000001FB83D64CD0>>\n",
      "obj._getReply = <bound method MyMessage._getReply of <encrypted_my_message.EncryptedMyMessage object at 0x000001FB83D64CD0>>\n",
      "obj._isBoss = {'currentBossNumber': None, 'recievedBossNumber': None, 'isBoss': None}\n",
      "obj._logger = <Logger myMessage0 (WARNING)>\n",
      "obj._nextMessageEncryptionType = None\n",
      "obj._numberOfTimesTriedToSendEncryption = 0\n",
      "obj._returnEcho = <bound method MyMessage._returnEcho of <encrypted_my_message.EncryptedMyMessage object at 0x000001FB83D64CD0>>\n",
      "obj._sendAESEncrypted = <bound method EncryptedMyMessage._sendAESEncrypted of <encrypted_my_message.EncryptedMyMessage object at 0x000001FB83D64CD0>>\n",
      "obj._sendRSAEncrypted = <bound method EncryptedMyMessage._sendRSAEncrypted of <encrypted_my_message.EncryptedMyMessage object at 0x000001FB83D64CD0>>\n",
      "obj._setEncodingFromMessage = <bound method EncryptedMyMessage._setEncodingFromMessage of <encrypted_my_message.EncryptedMyMessage object at 0x000001FB83D64CD0>>\n",
      "obj.addcommand = <bound method MyMessage.addcommand of <encrypted_my_message.EncryptedMyMessage object at 0x000001FB83D64CD0>>\n",
      "obj.command = <bound method EncryptedMyMessage.command of <encrypted_my_message.EncryptedMyMessage object at 0x000001FB83D64CD0>>\n",
      "obj.decryptAES = <bound method EncryptedMyMessage.decryptAES of <encrypted_my_message.EncryptedMyMessage object at 0x000001FB83D64CD0>>\n",
      "obj.decryptRSA = <bound method EncryptedMyMessage.decryptRSA of <encrypted_my_message.EncryptedMyMessage object at 0x000001FB83D64CD0>>\n",
      "obj.echo = <bound method MyMessage.echo of <encrypted_my_message.EncryptedMyMessage object at 0x000001FB83D64CD0>>\n",
      "obj.findCommandFromID = <bound method MyMessage.findCommandFromID of <encrypted_my_message.EncryptedMyMessage object at 0x000001FB83D64CD0>>\n",
      "obj.findCommandFromName = <bound method MyMessage.findCommandFromName of <encrypted_my_message.EncryptedMyMessage object at 0x000001FB83D64CD0>>\n",
      "obj.getCommandInfo = <bound method MyMessage.getCommandInfo of <encrypted_my_message.EncryptedMyMessage object at 0x000001FB83D64CD0>>\n",
      "obj.getMessageFormat = <bound method MyMessage.getMessageFormat of <encrypted_my_message.EncryptedMyMessage object at 0x000001FB83D64CD0>>\n",
      "obj.isBothRSAKeysValid = <bound method EncryptedMyMessage.isBothRSAKeysValid of <encrypted_my_message.EncryptedMyMessage object at 0x000001FB83D64CD0>>\n",
      "obj.popCommandInfo = <bound method MyMessage.popCommandInfo of <encrypted_my_message.EncryptedMyMessage object at 0x000001FB83D64CD0>>\n",
      "obj.reGenAESKey = <bound method EncryptedMyMessage.reGenAESKey of <encrypted_my_message.EncryptedMyMessage object at 0x000001FB83D64CD0>>\n",
      "obj.recv = <bound method EncryptedMyMessage.recv of <encrypted_my_message.EncryptedMyMessage object at 0x000001FB83D64CD0>>\n",
      "obj.send = <bound method EncryptedMyMessage.send of <encrypted_my_message.EncryptedMyMessage object at 0x000001FB83D64CD0>>\n"
     ]
    }
   ],
   "source": [
    "dumpStuff(etest)"
   ]
  },
  {
   "cell_type": "code",
   "execution_count": 10,
   "id": "cf0ea6e3-680b-4fa0-b673-584cd3a5d97c",
   "metadata": {},
   "outputs": [
    {
     "name": "stdout",
     "output_type": "stream",
     "text": [
      "obj._AESExists = <bound method EncryptedMyMessage._AESExists of <encrypted_my_message.EncryptedMyMessage object at 0x00000146E4B4B5D0>>\n",
      "obj._AESKESIZE = 32\n",
      "obj._ENCODINGMESSAGEENCODING = 'utf-8'\n",
      "obj._ENCODINGMESSAGESIZE = 20\n",
      "obj._EncryptedMyMessage__aesCipher = None\n",
      "obj._EncryptedMyMessage__aesKey = None\n",
      "obj._EncryptedMyMessage__recieveKey = PrivateKey(28716239940662780235623814571540965071638706340565701292063591521567904044695030157245894732780760199264532823276538876919278658151592112674961062553257410978304310093014091295579612623029818532275667636824098404684014000529453755884178241590647520498200795969664089203758324475835544811037905304218098711386811236649307052706809694848605790877330913589013930796410535834850473169893882284662369097893926011694668333702930887839589400113683957445319466263573520355057959237070572606414858932778990663124984794156710164611284046173900979133766526249509468928343198809159736412225142173407215010479150956070084804712533, 65537, 26394385790403047985618922778895656712778619597219840920874111205520658617946186529932377235962089092929138169408611148936684740066460254258118383296200923486139051701832290636787230193418530124162254407540931682886852241693901694416148571294649210976557052468386184986435051189028816520852620524080085632671642350223953143003159454330875705451079388786793820088983490277792298236148836996796338361039107756679037650540027035893624286105352902601987173037068868431599055605834120284389442703822809648325510945270734265877294414921052063786831471378585067563032586591436030889932232280162351950247740922296820483622185, 3040413507308643516008343016928535275974838160680893226881033883624563473286411922693578699754276142227895453494845475218226480009989556733612869997934935581471279624363855724048245512192335376421358451746840626270894689347192882569088366925271757401641599070206624756914934219715125262424928085656657730812054215898642346698359, 9444846851138426249376652165379355865732160510527567146705809437999206877582394946608683543836914436092821518409914027823860477478159096269063184695117918628068254191360569701976641211653614875287015769081608856571719241816048911318921194196708556196696259386400771094664109198190955056787)\n",
      "obj._EncryptedMyMessage__sendKey = PublicKey(24111479507460423344942992150794289813034325352031061875644075109942158322745284853191666668874136610314331916757513204871267798715819943577075912799019320953066848346226108497130003374549002555539903483529480067136752890467415652302819806677725703062594665486824128826861346470173120972631553729452847709874760471824400404097799060693294509020328840604320854193642563852023381785901582868996099354980270508054920135256168122194270429614491183119564193997490092854534526086530580828666092074475256888753628523827232040989856552559754118232734681054285621679197608447956838006121119887274502197248278710462608843899391, 65537)\n",
      "obj._MAXENCRYPTIONSENDTIMES = 3\n",
      "obj._MyMessage__commandConvertToEcho = <bound method MyMessage.__commandConvertToEcho of <encrypted_my_message.EncryptedMyMessage object at 0x00000146E4B4B5D0>>\n",
      "obj._MyMessage__getCallableOnly = <bound method MyMessage.__getCallableOnly of <encrypted_my_message.EncryptedMyMessage object at 0x00000146E4B4B5D0>>\n",
      "obj._MyMessage__getNewInstanceID = <bound method MyMessage.__getNewInstanceID of <encrypted_my_message.EncryptedMyMessage object at 0x00000146E4B4B5D0>>\n",
      "obj._MyMessage__instanceCount = 4\n",
      "obj._MyMessage__instanceID = 1\n",
      "obj._MyMessage__instanceIDs = {0: <encrypted_my_message.EncryptedMyMessage object at 0x00000146E4E3FA90>, 1: <encrypted_my_message.EncryptedMyMessage object at 0x00000146E4B4B5D0>, 2: <my_message.MyMessage object at 0x00000146E4E44110>, 3: <my_message.MyMessage object at 0x00000146E5053D10>}\n",
      "obj._MyMessage__removeInstanceID = <bound method MyMessage.__removeInstanceID of <encrypted_my_message.EncryptedMyMessage object at 0x00000146E4B4B5D0>>\n",
      "obj._RESKEYSIZE = 2048\n",
      "obj._RSAExists = <bound method EncryptedMyMessage._RSAExists of <encrypted_my_message.EncryptedMyMessage object at 0x00000146E4B4B5D0>>\n",
      "obj.__annotations__ = {'_MyMessage__instanceCount': <class 'int'>, '_MyMessage__instanceIDs': <class 'dict'>}\n",
      "obj.__class__ = <class 'encrypted_my_message.EncryptedMyMessage'>\n",
      "obj.__del__ = <bound method MyMessage.__del__ of <encrypted_my_message.EncryptedMyMessage object at 0x00000146E4B4B5D0>>\n",
      "obj.__delattr__ = <method-wrapper '__delattr__' of EncryptedMyMessage object at 0x00000146E4B4B5D0>\n",
      "obj.__dict__ = {'_nextMessageEncryptionType': None, '_canSendEncryption': False, '_numberOfTimesTriedToSendEncryption': 0, '_EncryptedMyMessage__sendKey': PublicKey(24111479507460423344942992150794289813034325352031061875644075109942158322745284853191666668874136610314331916757513204871267798715819943577075912799019320953066848346226108497130003374549002555539903483529480067136752890467415652302819806677725703062594665486824128826861346470173120972631553729452847709874760471824400404097799060693294509020328840604320854193642563852023381785901582868996099354980270508054920135256168122194270429614491183119564193997490092854534526086530580828666092074475256888753628523827232040989856552559754118232734681054285621679197608447956838006121119887274502197248278710462608843899391, 65537), '_EncryptedMyMessage__recieveKey': PrivateKey(28716239940662780235623814571540965071638706340565701292063591521567904044695030157245894732780760199264532823276538876919278658151592112674961062553257410978304310093014091295579612623029818532275667636824098404684014000529453755884178241590647520498200795969664089203758324475835544811037905304218098711386811236649307052706809694848605790877330913589013930796410535834850473169893882284662369097893926011694668333702930887839589400113683957445319466263573520355057959237070572606414858932778990663124984794156710164611284046173900979133766526249509468928343198809159736412225142173407215010479150956070084804712533, 65537, 26394385790403047985618922778895656712778619597219840920874111205520658617946186529932377235962089092929138169408611148936684740066460254258118383296200923486139051701832290636787230193418530124162254407540931682886852241693901694416148571294649210976557052468386184986435051189028816520852620524080085632671642350223953143003159454330875705451079388786793820088983490277792298236148836996796338361039107756679037650540027035893624286105352902601987173037068868431599055605834120284389442703822809648325510945270734265877294414921052063786831471378585067563032586591436030889932232280162351950247740922296820483622185, 3040413507308643516008343016928535275974838160680893226881033883624563473286411922693578699754276142227895453494845475218226480009989556733612869997934935581471279624363855724048245512192335376421358451746840626270894689347192882569088366925271757401641599070206624756914934219715125262424928085656657730812054215898642346698359, 9444846851138426249376652165379355865732160510527567146705809437999206877582394946608683543836914436092821518409914027823860477478159096269063184695117918628068254191360569701976641211653614875287015769081608856571719241816048911318921194196708556196696259386400771094664109198190955056787), '_EncryptedMyMessage__aesKey': None, '_EncryptedMyMessage__aesCipher': None, '_isBoss': {'currentBossNumber': 277, 'recievedBossNumber': None, 'isBoss': None}, '_MyMessage__instanceID': 1, '_logger': <Logger myMessage1 (WARNING)>, '_eventsDictionary': {}, '_commandQue': [], '_commandIDs': {0: <command.Command object at 0x00000146E5050DD0>}, '_currentMessageSize': 0, '_currentMessageEncoding': ''}\n",
      "obj.__dir__ = <built-in method __dir__ of EncryptedMyMessage object at 0x00000146E4B4B5D0>\n",
      "obj.__doc__ = '\\n    A better MyMessage for a better future\\n    Keeps message private via encryption\\n\\n    \\n\\nA class to simplify sending messages between devices\\n\\n    ===========Important information===========\\n    ===========================================\\n\\n    eventsDictionary\\n    ----------------\\n    items in dictionary requirement {[str] command name : [function(dict | None) -> int, dict|None]} a valid function that has\\n    _________________________________________________________________________________________________________________________\\n    1) one parameter that will be used to pass command data into as a dictionary or None if nothing is being passed\\n    2) return a bool value that determines if accept/decline (True/False) will be sent function can more than one value at a time, the rest will be packaged and sent in the accept/decline message as None if no additional information is being sent or a dictionary with the the additional information\\n\\n    '\n",
      "obj.__eq__ = <method-wrapper '__eq__' of EncryptedMyMessage object at 0x00000146E4B4B5D0>\n",
      "obj.__format__ = <built-in method __format__ of EncryptedMyMessage object at 0x00000146E4B4B5D0>\n",
      "obj.__ge__ = <method-wrapper '__ge__' of EncryptedMyMessage object at 0x00000146E4B4B5D0>\n",
      "obj.__getattribute__ = <method-wrapper '__getattribute__' of EncryptedMyMessage object at 0x00000146E4B4B5D0>\n",
      "obj.__getstate__ = <built-in method __getstate__ of EncryptedMyMessage object at 0x00000146E4B4B5D0>\n",
      "obj.__gt__ = <method-wrapper '__gt__' of EncryptedMyMessage object at 0x00000146E4B4B5D0>\n",
      "obj.__hash__ = <method-wrapper '__hash__' of EncryptedMyMessage object at 0x00000146E4B4B5D0>\n",
      "obj.__init__ = <bound method EncryptedMyMessage.__init__ of <encrypted_my_message.EncryptedMyMessage object at 0x00000146E4B4B5D0>>\n",
      "obj.__init_subclass__ = <built-in method __init_subclass__ of type object at 0x00000146E39F4A30>\n",
      "obj.__le__ = <method-wrapper '__le__' of EncryptedMyMessage object at 0x00000146E4B4B5D0>\n",
      "obj.__lt__ = <method-wrapper '__lt__' of EncryptedMyMessage object at 0x00000146E4B4B5D0>\n",
      "obj.__module__ = 'encrypted_my_message'\n",
      "obj.__ne__ = <method-wrapper '__ne__' of EncryptedMyMessage object at 0x00000146E4B4B5D0>\n",
      "obj.__new__ = <built-in method __new__ of type object at 0x00007FFD3D84C330>\n",
      "obj.__reduce__ = <built-in method __reduce__ of EncryptedMyMessage object at 0x00000146E4B4B5D0>\n",
      "obj.__reduce_ex__ = <built-in method __reduce_ex__ of EncryptedMyMessage object at 0x00000146E4B4B5D0>\n",
      "obj.__repr__ = <method-wrapper '__repr__' of EncryptedMyMessage object at 0x00000146E4B4B5D0>\n",
      "obj.__setattr__ = <method-wrapper '__setattr__' of EncryptedMyMessage object at 0x00000146E4B4B5D0>\n",
      "obj.__sizeof__ = <built-in method __sizeof__ of EncryptedMyMessage object at 0x00000146E4B4B5D0>\n",
      "obj.__str__ = <method-wrapper '__str__' of EncryptedMyMessage object at 0x00000146E4B4B5D0>\n",
      "obj.__subclasshook__ = <built-in method __subclasshook__ of type object at 0x00000146E39F4A30>\n",
      "obj.__weakref__ = None\n",
      "obj._acceptDecline = <bound method MyMessage._acceptDecline of <encrypted_my_message.EncryptedMyMessage object at 0x00000146E4B4B5D0>>\n",
      "obj._addToQue = <bound method MyMessage._addToQue of <encrypted_my_message.EncryptedMyMessage object at 0x00000146E4B4B5D0>>\n",
      "obj._canSendEncryption = False\n",
      "obj._checkCanMakeAES = <bound method EncryptedMyMessage._checkCanMakeAES of <encrypted_my_message.EncryptedMyMessage object at 0x00000146E4B4B5D0>>\n",
      "obj._commandIDs = {0: <command.Command object at 0x00000146E5050DD0>}\n",
      "obj._commandQue = []\n",
      "obj._currentMessageEncoding = ''\n",
      "obj._currentMessageSize = 0\n",
      "obj._eventsDictionary = {}\n",
      "obj._generateAESKey = <bound method EncryptedMyMessage._generateAESKey of <encrypted_my_message.EncryptedMyMessage object at 0x00000146E4B4B5D0>>\n",
      "obj._generateBossNumber = <bound method EncryptedMyMessage._generateBossNumber of <encrypted_my_message.EncryptedMyMessage object at 0x00000146E4B4B5D0>>\n",
      "obj._getAES = <bound method EncryptedMyMessage._getAES of <encrypted_my_message.EncryptedMyMessage object at 0x00000146E4B4B5D0>>\n",
      "obj._getAcceptAndDecline = <bound method MyMessage._getAcceptAndDecline of <encrypted_my_message.EncryptedMyMessage object at 0x00000146E4B4B5D0>>\n",
      "obj._getBossNumber = <bound method EncryptedMyMessage._getBossNumber of <encrypted_my_message.EncryptedMyMessage object at 0x00000146E4B4B5D0>>\n",
      "obj._getCommandMessage = <bound method MyMessage._getCommandMessage of <encrypted_my_message.EncryptedMyMessage object at 0x00000146E4B4B5D0>>\n",
      "obj._getDecryptedMessage = <bound method EncryptedMyMessage._getDecryptedMessage of <encrypted_my_message.EncryptedMyMessage object at 0x00000146E4B4B5D0>>\n",
      "obj._getEncodingMessage = <bound method EncryptedMyMessage._getEncodingMessage of <encrypted_my_message.EncryptedMyMessage object at 0x00000146E4B4B5D0>>\n",
      "obj._getFunctionReturns = <bound method MyMessage._getFunctionReturns of <encrypted_my_message.EncryptedMyMessage object at 0x00000146E4B4B5D0>>\n",
      "obj._getMessageFormat = <bound method MyMessage._getMessageFormat of <encrypted_my_message.EncryptedMyMessage object at 0x00000146E4B4B5D0>>\n",
      "obj._getMessageToSend = <bound method MyMessage._getMessageToSend of <encrypted_my_message.EncryptedMyMessage object at 0x00000146E4B4B5D0>>\n",
      "obj._getNewID = <bound method MyMessage._getNewID of <encrypted_my_message.EncryptedMyMessage object at 0x00000146E4B4B5D0>>\n",
      "obj._getNewRSAEncryption = <bound method EncryptedMyMessage._getNewRSAEncryption of <encrypted_my_message.EncryptedMyMessage object at 0x00000146E4B4B5D0>>\n",
      "obj._getRSA = <bound method EncryptedMyMessage._getRSA of <encrypted_my_message.EncryptedMyMessage object at 0x00000146E4B4B5D0>>\n",
      "obj._getReply = <bound method MyMessage._getReply of <encrypted_my_message.EncryptedMyMessage object at 0x00000146E4B4B5D0>>\n",
      "obj._isBoss = {'currentBossNumber': 277, 'recievedBossNumber': None, 'isBoss': None}\n",
      "obj._logger = <Logger myMessage1 (WARNING)>\n",
      "obj._nextMessageEncryptionType = None\n",
      "obj._numberOfTimesTriedToSendEncryption = 0\n",
      "obj._returnEcho = <bound method MyMessage._returnEcho of <encrypted_my_message.EncryptedMyMessage object at 0x00000146E4B4B5D0>>\n",
      "obj._sendAESEncrypted = <bound method EncryptedMyMessage._sendAESEncrypted of <encrypted_my_message.EncryptedMyMessage object at 0x00000146E4B4B5D0>>\n",
      "obj._sendRSAEncrypted = <bound method EncryptedMyMessage._sendRSAEncrypted of <encrypted_my_message.EncryptedMyMessage object at 0x00000146E4B4B5D0>>\n",
      "obj._setEncodingFromMessage = <bound method EncryptedMyMessage._setEncodingFromMessage of <encrypted_my_message.EncryptedMyMessage object at 0x00000146E4B4B5D0>>\n",
      "obj.addcommand = <bound method MyMessage.addcommand of <encrypted_my_message.EncryptedMyMessage object at 0x00000146E4B4B5D0>>\n",
      "obj.command = <bound method EncryptedMyMessage.command of <encrypted_my_message.EncryptedMyMessage object at 0x00000146E4B4B5D0>>\n",
      "obj.decryptAES = <bound method EncryptedMyMessage.decryptAES of <encrypted_my_message.EncryptedMyMessage object at 0x00000146E4B4B5D0>>\n",
      "obj.decryptRSA = <bound method EncryptedMyMessage.decryptRSA of <encrypted_my_message.EncryptedMyMessage object at 0x00000146E4B4B5D0>>\n",
      "obj.echo = <bound method MyMessage.echo of <encrypted_my_message.EncryptedMyMessage object at 0x00000146E4B4B5D0>>\n",
      "obj.findCommandFromID = <bound method MyMessage.findCommandFromID of <encrypted_my_message.EncryptedMyMessage object at 0x00000146E4B4B5D0>>\n",
      "obj.findCommandFromName = <bound method MyMessage.findCommandFromName of <encrypted_my_message.EncryptedMyMessage object at 0x00000146E4B4B5D0>>\n",
      "obj.getCommandInfo = <bound method MyMessage.getCommandInfo of <encrypted_my_message.EncryptedMyMessage object at 0x00000146E4B4B5D0>>\n",
      "obj.getMessageFormat = <bound method MyMessage.getMessageFormat of <encrypted_my_message.EncryptedMyMessage object at 0x00000146E4B4B5D0>>\n",
      "obj.isBothRSAKeysValid = <bound method EncryptedMyMessage.isBothRSAKeysValid of <encrypted_my_message.EncryptedMyMessage object at 0x00000146E4B4B5D0>>\n",
      "obj.popCommandInfo = <bound method MyMessage.popCommandInfo of <encrypted_my_message.EncryptedMyMessage object at 0x00000146E4B4B5D0>>\n",
      "obj.recv = <bound method EncryptedMyMessage.recv of <encrypted_my_message.EncryptedMyMessage object at 0x00000146E4B4B5D0>>\n",
      "obj.send = <bound method EncryptedMyMessage.send of <encrypted_my_message.EncryptedMyMessage object at 0x00000146E4B4B5D0>>\n"
     ]
    }
   ],
   "source": [
    "dumpStuff(etest2)"
   ]
  },
  {
   "cell_type": "code",
   "execution_count": null,
   "id": "865f08e2-63dd-432f-87dc-8727e2f547ba",
   "metadata": {},
   "outputs": [],
   "source": [
    "print(messageList[\"etest\"])"
   ]
  },
  {
   "cell_type": "code",
   "execution_count": null,
   "id": "7677cf04-45f1-471a-a6ed-535346d121ab",
   "metadata": {},
   "outputs": [],
   "source": [
    "def abigel(x : int, **kwargs):\n",
    "    print(x)\n",
    "    print(kwargs['t'])"
   ]
  },
  {
   "cell_type": "code",
   "execution_count": null,
   "id": "4613a122-5b2c-44f7-836c-904aef58c455",
   "metadata": {},
   "outputs": [],
   "source": [
    "abigel(10, t = \"e\")"
   ]
  },
  {
   "cell_type": "code",
   "execution_count": null,
   "id": "051e44c1-774e-49cb-af54-8fb9a11f7eff",
   "metadata": {},
   "outputs": [],
   "source": [
    "len(\"lmf size128codeutf-8\")"
   ]
  },
  {
   "cell_type": "code",
   "execution_count": 11,
   "id": "c6de8b21-4452-462e-9f05-601668355ca8",
   "metadata": {},
   "outputs": [],
   "source": [
    "for message in etest.send():\n",
    "    messageList[\"etest\"].append(message)\n",
    "    print(\"current message\", message)\n",
    "    test.recv(message)\n",
    "    "
   ]
  },
  {
   "cell_type": "code",
   "execution_count": 12,
   "id": "639670d1-3fd3-4735-92ad-962155baa511",
   "metadata": {},
   "outputs": [],
   "source": [
    "for message in test.send():\n",
    "    messageList[\"test\"].append(message)\n",
    "    print(\"current message\", message)\n",
    "    etest.recv(message)"
   ]
  },
  {
   "cell_type": "code",
   "execution_count": null,
   "id": "c5ffd952-0599-4bfe-b898-8afa9d2252ea",
   "metadata": {},
   "outputs": [],
   "source": []
  }
 ],
 "metadata": {
  "kernelspec": {
   "display_name": "Python 3 (ipykernel)",
   "language": "python",
   "name": "python3"
  },
  "language_info": {
   "codemirror_mode": {
    "name": "ipython",
    "version": 3
   },
   "file_extension": ".py",
   "mimetype": "text/x-python",
   "name": "python",
   "nbconvert_exporter": "python",
   "pygments_lexer": "ipython3",
   "version": "3.11.7"
  }
 },
 "nbformat": 4,
 "nbformat_minor": 5
}
