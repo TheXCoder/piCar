{
 "cells": [
  {
   "cell_type": "code",
   "execution_count": 1,
   "id": "8334a8d1-0790-4f03-994c-b36410f59b6a",
   "metadata": {},
   "outputs": [],
   "source": [
    "from encrypted_server_handler import EncryptedServerHandler\n",
    "from encrypted_client_handler import EncryptedClientHandler\n",
    "from encrypted_socket_handler import EncryptedSocketHandler\n",
    "from misc import findDevice"
   ]
  },
  {
   "cell_type": "code",
   "execution_count": 2,
   "id": "75099513-a1a1-4487-a166-da76b530bd94",
   "metadata": {},
   "outputs": [
    {
     "name": "stdout",
     "output_type": "stream",
     "text": [
      "device name ConsensualEcstasy\n",
      "device IP \n"
     ]
    },
    {
     "data": {
      "text/plain": [
       "('ConsensualEcstasy', '192.168.56.1')"
      ]
     },
     "execution_count": 2,
     "metadata": {},
     "output_type": "execute_result"
    }
   ],
   "source": [
    "findDevice(\"ConsensualEcstasy\", isLocal=True)"
   ]
  },
  {
   "cell_type": "code",
   "execution_count": 3,
   "id": "df113448-9aad-4605-b4fb-5187a67b1774",
   "metadata": {},
   "outputs": [
    {
     "data": {
      "text/plain": [
       "<encrypted_client_handler.EncryptedClientHandler at 0x1dbacf60190>"
      ]
     },
     "execution_count": 3,
     "metadata": {},
     "output_type": "execute_result"
    }
   ],
   "source": [
    "client = EncryptedClientHandler()\n",
    "client"
   ]
  },
  {
   "cell_type": "code",
   "execution_count": 4,
   "id": "d042abf7-c45a-4b34-8f91-fb8dc703a468",
   "metadata": {},
   "outputs": [
    {
     "data": {
      "text/plain": [
       "<encrypted_server_handler.EncryptedServerHandler at 0x1dbad267450>"
      ]
     },
     "execution_count": 4,
     "metadata": {},
     "output_type": "execute_result"
    }
   ],
   "source": [
    "server = EncryptedServerHandler(5050)\n",
    "server"
   ]
  },
  {
   "cell_type": "code",
   "execution_count": 5,
   "id": "f9fb9734-a5e4-436f-b15a-29cecbedda2a",
   "metadata": {},
   "outputs": [
    {
     "name": "stdout",
     "output_type": "stream",
     "text": [
      "device name \n",
      "device IP 192.168.56.1\n",
      "Server has refused to connect. Trying again\n",
      "Connected to server\n",
      "my message instance has been created\n",
      "creating new RSA keys\n",
      "RSA keys created\n",
      "encrypted socket handler instance has been created\n"
     ]
    },
    {
     "data": {
      "text/plain": [
       "('ConsensualEcstasy', '192.168.56.1', 5050)"
      ]
     },
     "execution_count": 5,
     "metadata": {},
     "output_type": "execute_result"
    }
   ],
   "source": [
    "client.connect(\"192.168.56.1\", 5050)"
   ]
  },
  {
   "cell_type": "code",
   "execution_count": 6,
   "id": "2a8c384e-2204-4e24-bd06-d2b0b81f5d92",
   "metadata": {},
   "outputs": [
    {
     "name": "stdout",
     "output_type": "stream",
     "text": [
      "device name \n",
      "device IP 192.168.56.1\n",
      "my message instance has been created\n",
      "creating new RSA keys\n",
      "RSA keys created\n",
      "encrypted socket handler instance has been created\n"
     ]
    },
    {
     "data": {
      "text/plain": [
       "('ConsensualEcstasy', '192.168.56.1', 53396)"
      ]
     },
     "execution_count": 6,
     "metadata": {},
     "output_type": "execute_result"
    }
   ],
   "source": [
    "server.acceptADevice()"
   ]
  },
  {
   "cell_type": "code",
   "execution_count": 7,
   "id": "320a2329-8643-40c2-8bf0-ccbfaf3d7c6e",
   "metadata": {},
   "outputs": [
    {
     "data": {
      "text/plain": [
       "{'name': 'ConsensualEcstasy',\n",
       " 'IP Address': '192.168.56.1',\n",
       " 'comm': <encrypted_socket_handler.EncryptedSocketHandler at 0x1dbacf6ac50>,\n",
       " 'port': 5050}"
      ]
     },
     "execution_count": 7,
     "metadata": {},
     "output_type": "execute_result"
    }
   ],
   "source": [
    "hostInfo : dict = client.getHost()\n",
    "hostInfo"
   ]
  },
  {
   "cell_type": "code",
   "execution_count": 8,
   "id": "44273dea-c535-4781-a2e2-46198a980359",
   "metadata": {},
   "outputs": [
    {
     "data": {
      "text/plain": [
       "{'name': 'ConsensualEcstasy',\n",
       " 'IP Address': '192.168.56.1',\n",
       " 'comm': <encrypted_socket_handler.EncryptedSocketHandler at 0x1dbad6c5550>,\n",
       " 'port': 53396}"
      ]
     },
     "execution_count": 8,
     "metadata": {},
     "output_type": "execute_result"
    }
   ],
   "source": [
    "deviceInfo : dict = server.getDevice(\"ConsensualEcstasy\")\n",
    "deviceInfo"
   ]
  },
  {
   "cell_type": "code",
   "execution_count": 9,
   "id": "241b71ff-a9fe-459a-8b9e-9c0f28cd2e1b",
   "metadata": {},
   "outputs": [
    {
     "data": {
      "text/plain": [
       "<encrypted_socket_handler.EncryptedSocketHandler at 0x1dbacf6ac50>"
      ]
     },
     "execution_count": 9,
     "metadata": {},
     "output_type": "execute_result"
    }
   ],
   "source": [
    "clientComm : EncryptedSocketHandler = hostInfo[\"comm\"]\n",
    "clientComm"
   ]
  },
  {
   "cell_type": "code",
   "execution_count": 10,
   "id": "f029e6ab-e3b9-414e-8ba4-d1f668e5b599",
   "metadata": {},
   "outputs": [
    {
     "data": {
      "text/plain": [
       "<encrypted_socket_handler.EncryptedSocketHandler at 0x1dbad6c5550>"
      ]
     },
     "execution_count": 10,
     "metadata": {},
     "output_type": "execute_result"
    }
   ],
   "source": [
    "serverComm : EncryptedSocketHandler = deviceInfo[\"comm\"]\n",
    "serverComm"
   ]
  },
  {
   "cell_type": "code",
   "execution_count": 40,
   "id": "0156a913-c188-4201-93c7-a207efc0ff2a",
   "metadata": {
    "scrolled": true
   },
   "outputs": [
    {
     "name": "stderr",
     "output_type": "stream",
     "text": [
      "socket has been closed within the EncryptedSocketHandler instance\n"
     ]
    },
    {
     "name": "stdout",
     "output_type": "stream",
     "text": [
      "Attempting to send a message using socket protocol\n",
      "socket has been closed within the EncryptedSocketHandler instance\n"
     ]
    },
    {
     "ename": "RuntimeError",
     "evalue": "socket has been closed within the EncryptedSocketHandler instance",
     "output_type": "error",
     "traceback": [
      "\u001b[1;31m---------------------------------------------------------------------------\u001b[0m",
      "\u001b[1;31mRuntimeError\u001b[0m                              Traceback (most recent call last)",
      "Cell \u001b[1;32mIn[40], line 1\u001b[0m\n\u001b[1;32m----> 1\u001b[0m \u001b[38;5;28;01mfor\u001b[39;00m message \u001b[38;5;129;01min\u001b[39;00m clientComm\u001b[38;5;241m.\u001b[39msend():\n\u001b[0;32m      2\u001b[0m     serverComm\u001b[38;5;241m.\u001b[39mrecv()\n",
      "File \u001b[1;32mD:\\Documents\\Programming\\Python\\Programs\\Tests\\piCar\\encrypted_socket_handler.py:93\u001b[0m, in \u001b[0;36mEncryptedSocketHandler.send\u001b[1;34m(self)\u001b[0m\n\u001b[0;32m     91\u001b[0m     \u001b[38;5;28mprint\u001b[39m(message)\n\u001b[0;32m     92\u001b[0m     \u001b[38;5;28mself\u001b[39m\u001b[38;5;241m.\u001b[39m_logger\u001b[38;5;241m.\u001b[39merror(message)\n\u001b[1;32m---> 93\u001b[0m     \u001b[38;5;28;01mraise\u001b[39;00m \u001b[38;5;167;01mRuntimeError\u001b[39;00m(message)\n\u001b[0;32m     94\u001b[0m     \u001b[38;5;28;01mreturn\u001b[39;00m \u001b[38;5;28;01mNone\u001b[39;00m\n\u001b[0;32m     97\u001b[0m messageGenerator \u001b[38;5;241m=\u001b[39m \u001b[38;5;28;01mNone\u001b[39;00m\n",
      "\u001b[1;31mRuntimeError\u001b[0m: socket has been closed within the EncryptedSocketHandler instance"
     ]
    }
   ],
   "source": [
    "for message in clientComm.send():\n",
    "    serverComm.recv()"
   ]
  },
  {
   "cell_type": "code",
   "execution_count": 38,
   "id": "8a2b559f-3b82-46f1-b926-1eab5d32e2ba",
   "metadata": {},
   "outputs": [
    {
     "name": "stderr",
     "output_type": "stream",
     "text": [
      "socket has been closed within the EncryptedSocketHandler instance\n"
     ]
    },
    {
     "name": "stdout",
     "output_type": "stream",
     "text": [
      "Attempting to send a message using socket protocol\n",
      "Encrypting message using the AES protocol...\n",
      "message encrypted\n",
      "message has been sent using the socket\n",
      "recieving message from socket\n"
     ]
    },
    {
     "ename": "RuntimeError",
     "evalue": "socket has been closed within the EncryptedSocketHandler instance",
     "output_type": "error",
     "traceback": [
      "\u001b[1;31m---------------------------------------------------------------------------\u001b[0m",
      "\u001b[1;31mRuntimeError\u001b[0m                              Traceback (most recent call last)",
      "Cell \u001b[1;32mIn[38], line 2\u001b[0m\n\u001b[0;32m      1\u001b[0m \u001b[38;5;28;01mfor\u001b[39;00m message \u001b[38;5;129;01min\u001b[39;00m serverComm\u001b[38;5;241m.\u001b[39msend():\n\u001b[1;32m----> 2\u001b[0m     clientComm\u001b[38;5;241m.\u001b[39mrecv()\n",
      "File \u001b[1;32mD:\\Documents\\Programming\\Python\\Programs\\Tests\\piCar\\encrypted_socket_handler.py:180\u001b[0m, in \u001b[0;36mEncryptedSocketHandler.recv\u001b[1;34m(self)\u001b[0m\n\u001b[0;32m    178\u001b[0m     message : \u001b[38;5;28mstr\u001b[39m \u001b[38;5;241m=\u001b[39m \u001b[38;5;124m\"\u001b[39m\u001b[38;5;124msocket has been closed within the EncryptedSocketHandler instance\u001b[39m\u001b[38;5;124m\"\u001b[39m\n\u001b[0;32m    179\u001b[0m     \u001b[38;5;28mself\u001b[39m\u001b[38;5;241m.\u001b[39m_logger\u001b[38;5;241m.\u001b[39merror(message)\n\u001b[1;32m--> 180\u001b[0m     \u001b[38;5;28;01mraise\u001b[39;00m \u001b[38;5;167;01mRuntimeError\u001b[39;00m(message)\n\u001b[0;32m    181\u001b[0m     \u001b[38;5;28;01mreturn\u001b[39;00m \u001b[38;5;28;01mNone\u001b[39;00m\n\u001b[0;32m    182\u001b[0m messageSize : \u001b[38;5;28mint\u001b[39m; messageEncoding : \u001b[38;5;28mstr\u001b[39m;\n",
      "\u001b[1;31mRuntimeError\u001b[0m: socket has been closed within the EncryptedSocketHandler instance"
     ]
    }
   ],
   "source": [
    "for message in serverComm.send():\n",
    "    clientComm.recv()"
   ]
  },
  {
   "cell_type": "code",
   "execution_count": 36,
   "id": "3c37d4c7-f38e-430b-b6ac-3c7e6fb411dc",
   "metadata": {},
   "outputs": [],
   "source": [
    "serverComm.echo(\"hello world\")"
   ]
  },
  {
   "cell_type": "code",
   "execution_count": 39,
   "id": "00553923-53ae-450e-8e71-039b9d71e136",
   "metadata": {},
   "outputs": [
    {
     "name": "stdout",
     "output_type": "stream",
     "text": [
      "generating a end communication command to be sent\n"
     ]
    },
    {
     "data": {
      "text/plain": [
       "True"
      ]
     },
     "execution_count": 39,
     "metadata": {},
     "output_type": "execute_result"
    }
   ],
   "source": [
    "clientComm.endCommunication()"
   ]
  },
  {
   "cell_type": "code",
   "execution_count": null,
   "id": "a529c118-b0c4-4271-8af3-cbb5e27b8e8c",
   "metadata": {},
   "outputs": [],
   "source": []
  }
 ],
 "metadata": {
  "kernelspec": {
   "display_name": "Python 3 (ipykernel)",
   "language": "python",
   "name": "python3"
  },
  "language_info": {
   "codemirror_mode": {
    "name": "ipython",
    "version": 3
   },
   "file_extension": ".py",
   "mimetype": "text/x-python",
   "name": "python",
   "nbconvert_exporter": "python",
   "pygments_lexer": "ipython3",
   "version": "3.11.7"
  }
 },
 "nbformat": 4,
 "nbformat_minor": 5
}
