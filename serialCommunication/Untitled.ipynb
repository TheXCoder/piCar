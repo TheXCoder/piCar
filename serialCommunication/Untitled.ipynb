{
 "cells": [
  {
   "cell_type": "code",
   "execution_count": 1,
   "id": "d63c935e-7eaf-41ae-bbd2-05d2774cedf7",
   "metadata": {},
   "outputs": [],
   "source": [
    "import serial\n",
    "from serial.tools import list_ports"
   ]
  },
  {
   "cell_type": "code",
   "execution_count": 2,
   "id": "320e41cc-4577-4063-8221-2b267a9983b2",
   "metadata": {},
   "outputs": [],
   "source": [
    "def findSerialDevice(deviceName : str) -> str:\n",
    "    ports = list(serial.tools.list_ports.comports())\n",
    "    for port in ports:\n",
    "        print(port.name)\n",
    "        try: \n",
    "            comm : serial.Serial;\n",
    "            with serial.Serial(port.name, baudrate =9600, timeout = 1) as comm:\n",
    "                ...\n",
    "            if port.description.startswith(deviceName):\n",
    "                return port.name\n",
    "        except serial.SerialException:\n",
    "            print(f\"port: {str(port)} is cannot be connected to\")\n",
    "            continue\n",
    "    return None"
   ]
  },
  {
   "cell_type": "code",
   "execution_count": 8,
   "id": "fc64d990-23a2-4105-86d1-8e5d6cd76bb1",
   "metadata": {},
   "outputs": [
    {
     "name": "stdout",
     "output_type": "stream",
     "text": [
      "COM1\n",
      "COM7\n"
     ]
    }
   ],
   "source": [
    "arduinoPort = findSerialDevice(\"Arduino Uno\")\n",
    "aComm : serial.Serial | None = None\n",
    "if arduinoPort is not None:\n",
    "    aComm = serial.Serial(arduinoPort, baudrate = 9600, timeout=1)\n",
    "else:\n",
    "    print(\"arduino has not been found\")\n",
    "    "
   ]
  },
  {
   "cell_type": "code",
   "execution_count": 11,
   "id": "7f2c8706-dce5-48af-ac07-5cb35e619691",
   "metadata": {},
   "outputs": [],
   "source": [
    "def writeComm(comm : serial.Serial, message : str, encoding : str = \"utf-8\"):\n",
    "    return comm.write(message.encode(encoding))"
   ]
  },
  {
   "cell_type": "code",
   "execution_count": 12,
   "id": "5b0b3b7e-0608-41b6-bb3a-e0049a11baac",
   "metadata": {},
   "outputs": [
    {
     "data": {
      "text/plain": [
       "b''"
      ]
     },
     "execution_count": 12,
     "metadata": {},
     "output_type": "execute_result"
    }
   ],
   "source": [
    "aComm.readline()"
   ]
  },
  {
   "cell_type": "code",
   "execution_count": 15,
   "id": "b0dfd749-8399-40b6-b4c3-ceaa5012b85c",
   "metadata": {},
   "outputs": [
    {
     "name": "stdin",
     "output_type": "stream",
     "text": [
      "send a test message this is a test message\n"
     ]
    },
    {
     "data": {
      "text/plain": [
       "22"
      ]
     },
     "execution_count": 15,
     "metadata": {},
     "output_type": "execute_result"
    }
   ],
   "source": [
    "writeComm(aComm, input(\"send a test message\"))"
   ]
  },
  {
   "cell_type": "code",
   "execution_count": null,
   "id": "505fd0c7-0234-41d6-8895-e447de0462c4",
   "metadata": {},
   "outputs": [],
   "source": []
  }
 ],
 "metadata": {
  "kernelspec": {
   "display_name": "Python 3 (ipykernel)",
   "language": "python",
   "name": "python3"
  },
  "language_info": {
   "codemirror_mode": {
    "name": "ipython",
    "version": 3
   },
   "file_extension": ".py",
   "mimetype": "text/x-python",
   "name": "python",
   "nbconvert_exporter": "python",
   "pygments_lexer": "ipython3",
   "version": "3.11.7"
  }
 },
 "nbformat": 4,
 "nbformat_minor": 5
}
