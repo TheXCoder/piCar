{
 "cells": [
  {
   "cell_type": "code",
   "execution_count": 1,
   "id": "1cd67b16-b1aa-4633-9e9e-ed08022b5bd7",
   "metadata": {},
   "outputs": [],
   "source": [
    "import MyMessage, socket"
   ]
  },
  {
   "cell_type": "markdown",
   "id": "46a76375-a5a6-42bf-8c6a-294e22fcc7f9",
   "metadata": {},
   "source": [
    "# ClientSide"
   ]
  },
  {
   "cell_type": "code",
   "execution_count": 2,
   "id": "dccd5c22-d7b4-4d56-b9f7-184127127c08",
   "metadata": {},
   "outputs": [],
   "source": [
    "def findHost(serverName:str, numberIntervals : int = 5, intervalWaitTime : float = 1, isLocal : bool = True)->str:\n",
    "    serverIP : str= None\n",
    "    for _ in range(numberIntervals):\n",
    "        if _ == numberIntervals -1:\n",
    "            print(\"Last try before giving up\")\n",
    "        try:\n",
    "            serverIP = None\n",
    "            if isLocal:\n",
    "                serverIP = socket.gethostbyname(serverName + '.local')\n",
    "            else:\n",
    "                serverIP = socket.gethostbyname(serverName)\n",
    "            print(f\"{serverName} has been found at {serverIP}\")\n",
    "            return serverIP\n",
    "            \n",
    "        except socket.gaierror:\n",
    "            print(f\"{serverName} has not been found. Waiting {intervalWaitTime} seconds before retrying.\")\n",
    "            time.sleep(intervalWaitTime)\n",
    "    return serverIP"
   ]
  },
  {
   "cell_type": "code",
   "execution_count": 3,
   "id": "22ed5b76-61bf-4f14-930f-90050c00d299",
   "metadata": {},
   "outputs": [],
   "source": [
    "def getConnected(serverIP : str, clientsocket,  port : int = 5050, numberIntervals : int = 5,  intervalWaitTime : float = 1):\n",
    "    for _ in range(numberIntervals):\n",
    "        if _ == numberIntervals -1:\n",
    "            print(\"Last try before giving up\")\n",
    "        else:\n",
    "            print(\"Server has refused to connect. Trying again\")\n",
    "        try:\n",
    "            clientsocket.connect((serverIP,5050))\n",
    "            print(\"Connected to server\")\n",
    "            return clientsocket\n",
    "        except ConnectionRefusedError:\n",
    "            time.sleep(intervalWaitTime)\n",
    "            \n",
    "    print(\"System has failed to connect with the server.\")\n",
    "    return None"
   ]
  },
  {
   "cell_type": "code",
   "execution_count": null,
   "id": "2824a256-04a8-4383-a911-443b2f41f6e4",
   "metadata": {},
   "outputs": [],
   "source": []
  },
  {
   "cell_type": "markdown",
   "id": "00f795d7-233b-4dd0-9f13-bfea249fd8f7",
   "metadata": {},
   "source": [
    "# Server Side"
   ]
  },
  {
   "cell_type": "code",
   "execution_count": null,
   "id": "9fca6dca-8ba7-43e8-a165-b3cc23ceeea1",
   "metadata": {},
   "outputs": [],
   "source": [
    "class ListeningServer:\n",
    "    def __init__(self, port : int, amountOfClients : int = 1): #amount of clients can be connected to the listening server at once\n",
    "        \n",
    "        self.__listeningPort : int = port\n",
    "        self.__hostname : int = socket.gethostname()\n",
    "        self.__hostIP : int = socket.gethostbyname(self.__hostname)\n",
    "        \n",
    "        self.__listeningSocket = socket.socket(socket.AF_INET, socket.SOCK_STREAM)\n",
    "        self.__listeningSocket.bind((self.__hostIP, self.__listeningPort))\n",
    "        self.__listeningSocket.listen(amountOfClients)\n",
    "\n",
    "    def __del__(self):\n",
    "        self.__listeningSocket.close()\n",
    "    \n",
    "    def getSocket(self) -> dict:\n",
    "        communicationSocket, clientAddress = self.__listeningSocket.accept() #becuase client address and port is a tuple? ¯\\_(ツ)_/¯\n",
    "        clientAddress, clientPort = clientAddress\n",
    "        \n",
    "        clientName = socket.gethostbyaddr(clientAddress)\n",
    "        return communicationSocket, {\"client name\":clientName, \"client address\": clientAddress, \"client port\":clientPort}"
   ]
  },
  {
   "cell_type": "code",
   "execution_count": null,
   "id": "b11ec624-ee4b-48c0-968d-3d2aab7e203c",
   "metadata": {},
   "outputs": [],
   "source": [
    "class HostingServer:\n",
    "    def __init__(self, hostingSocket, clientInfo : dict = {}):\n",
    "        self.__serverSocket = hostingSocket\n",
    "        self.__clientInfo : dict = clientInfo\n",
    "        self.__serverMessager = MyMessage()\n",
    "    \n",
    "    def __del__(self):\n",
    "        ...\n",
    "    def __closeSocket(self):\n",
    "        self.__serverSocket.close()\n",
    "        del self.__serverSocket\n",
    "        del self.__clientInfo\n",
    "    \n",
    "    def __closeCommand(self, data):\n",
    "        return True, data\n",
    "    "
   ]
  }
 ],
 "metadata": {
  "kernelspec": {
   "display_name": "Python 3 (ipykernel)",
   "language": "python",
   "name": "python3"
  },
  "language_info": {
   "codemirror_mode": {
    "name": "ipython",
    "version": 3
   },
   "file_extension": ".py",
   "mimetype": "text/x-python",
   "name": "python",
   "nbconvert_exporter": "python",
   "pygments_lexer": "ipython3",
   "version": "3.11.7"
  }
 },
 "nbformat": 4,
 "nbformat_minor": 5
}
