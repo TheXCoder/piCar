{
 "cells": [
  {
   "cell_type": "code",
   "execution_count": 1,
   "id": "6116197f-9ff9-4b74-a302-e16597f2c7cc",
   "metadata": {},
   "outputs": [],
   "source": [
    "from listening_server import *\n",
    "from socket_helper import *"
   ]
  },
  {
   "cell_type": "code",
   "execution_count": 2,
   "id": "922626d4-7dc0-4f01-9d3a-ab6fb39cc82a",
   "metadata": {},
   "outputs": [],
   "source": [
    "serverListening = ListeningServer(5050,4)"
   ]
  },
  {
   "cell_type": "code",
   "execution_count": 3,
   "id": "26a4beb8-9879-466f-9ba2-aef154b9e152",
   "metadata": {},
   "outputs": [],
   "source": [
    "communicationSocket, clientInfo = serverListening.getSocket()\n",
    "testHandler = SocketHandler(communicationSocket)"
   ]
  },
  {
   "cell_type": "code",
   "execution_count": 8,
   "id": "ee7bc5cd-4176-4d4c-a046-ba9eef2ce98c",
   "metadata": {},
   "outputs": [
    {
     "ename": "StopIteration",
     "evalue": "",
     "output_type": "error",
     "traceback": [
      "\u001b[1;31m---------------------------------------------------------------------------\u001b[0m",
      "\u001b[1;31mStopIteration\u001b[0m                             Traceback (most recent call last)",
      "Cell \u001b[1;32mIn[8], line 1\u001b[0m\n\u001b[1;32m----> 1\u001b[0m \u001b[38;5;28mnext\u001b[39m(testHandler\u001b[38;5;241m.\u001b[39mnextMessage())\n",
      "\u001b[1;31mStopIteration\u001b[0m: "
     ]
    }
   ],
   "source": [
    "next(testHandler.nextMessage())"
   ]
  },
  {
   "cell_type": "code",
   "execution_count": 5,
   "id": "78f51b99-1dcc-49c0-af58-91fa54c4cb29",
   "metadata": {},
   "outputs": [
    {
     "data": {
      "text/plain": [
       "{'command': None, 'ID': None}"
      ]
     },
     "execution_count": 5,
     "metadata": {},
     "output_type": "execute_result"
    }
   ],
   "source": [
    "testHandler.recv()"
   ]
  },
  {
   "cell_type": "code",
   "execution_count": 4,
   "id": "8f93f36a-29ec-45d3-916c-d6333ed9ee1c",
   "metadata": {},
   "outputs": [],
   "source": [
    "testHandler.endCommunication(None)"
   ]
  },
  {
   "cell_type": "code",
   "execution_count": 6,
   "id": "355e11c2-2dd1-43bf-aa2b-8e2efd804296",
   "metadata": {},
   "outputs": [
    {
     "data": {
      "text/plain": [
       "(('size71codeutf-8;', 'utf-8'),\n",
       " ('{\"command\": \"acct\", \"ID\": 0, \"data\": {\"command\": \"endc\", \"data\": null}}',\n",
       "  'utf-8'))"
      ]
     },
     "execution_count": 6,
     "metadata": {},
     "output_type": "execute_result"
    }
   ],
   "source": [
    "testHandler.getQueList()"
   ]
  },
  {
   "cell_type": "code",
   "execution_count": 12,
   "id": "53fc503b-e522-4123-9dff-01a2241fcb50",
   "metadata": {},
   "outputs": [],
   "source": [
    "del testHandler"
   ]
  },
  {
   "cell_type": "code",
   "execution_count": 11,
   "id": "e15ed4df-bfb5-4e29-be35-962a97837160",
   "metadata": {},
   "outputs": [],
   "source": [
    "del serverListening"
   ]
  },
  {
   "cell_type": "code",
   "execution_count": 9,
   "id": "5515ab39-2a00-4d70-aa20-84c9abe7c962",
   "metadata": {},
   "outputs": [
    {
     "data": {
      "text/plain": [
       "False"
      ]
     },
     "execution_count": 9,
     "metadata": {},
     "output_type": "execute_result"
    }
   ],
   "source": [
    "testHandler.isSocketValid()"
   ]
  },
  {
   "cell_type": "code",
   "execution_count": null,
   "id": "60a4243f-ea96-4fee-9448-e8f9abcb7708",
   "metadata": {},
   "outputs": [],
   "source": []
  }
 ],
 "metadata": {
  "kernelspec": {
   "display_name": "Python 3 (ipykernel)",
   "language": "python",
   "name": "python3"
  },
  "language_info": {
   "codemirror_mode": {
    "name": "ipython",
    "version": 3
   },
   "file_extension": ".py",
   "mimetype": "text/x-python",
   "name": "python",
   "nbconvert_exporter": "python",
   "pygments_lexer": "ipython3",
   "version": "3.11.7"
  }
 },
 "nbformat": 4,
 "nbformat_minor": 5
}
