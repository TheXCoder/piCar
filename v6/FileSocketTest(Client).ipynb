{
 "cells": [
  {
   "cell_type": "code",
   "execution_count": 1,
   "id": "f5ea0391-fbdc-42d5-8f4e-8beb5c486033",
   "metadata": {},
   "outputs": [],
   "source": [
    "from file_socket import FileSocket\n",
    "from misc import *"
   ]
  },
  {
   "cell_type": "code",
   "execution_count": 2,
   "id": "6d4eb1d5-abaf-451e-9d7a-d7ac937984d4",
   "metadata": {
    "scrolled": true
   },
   "outputs": [
    {
     "name": "stdout",
     "output_type": "stream",
     "text": [
      "CONSENSUALECSTASY\n",
      "CONSENSUALECSTASY.local\n",
      "Server has refused to connect. Trying again\n",
      "Connected to server\n"
     ]
    }
   ],
   "source": [
    "clientSocket = socket.socket(socket.AF_INET, socket.SOCK_STREAM)\n",
    "hostName, hostIP = findDevice(\"CONSENSUALECSTASY\")\n",
    "getConnected(hostIP, clientSocket, 5050)\n",
    "testHandler = FileSocket(clientSocket)"
   ]
  },
  {
   "cell_type": "code",
   "execution_count": 3,
   "id": "68ad9b16-0b40-4761-ac81-76292d87b620",
   "metadata": {},
   "outputs": [
    {
     "data": {
      "text/plain": [
       "True"
      ]
     },
     "execution_count": 3,
     "metadata": {},
     "output_type": "execute_result"
    }
   ],
   "source": [
    "testHandler.loadFile(\"thisIsATest.txt\")"
   ]
  },
  {
   "cell_type": "code",
   "execution_count": 4,
   "id": "ac4b4db7-e05a-4f68-bc08-3e36edf3b97e",
   "metadata": {},
   "outputs": [],
   "source": [
    "while testHandler.updateQue():\n",
    "    pass"
   ]
  },
  {
   "cell_type": "code",
   "execution_count": 5,
   "id": "19174b06-a098-4903-805a-c3097559b5d0",
   "metadata": {
    "scrolled": true
   },
   "outputs": [
    {
     "data": {
      "text/plain": [
       "(('size89codeutf-8;', 'utf-8'),\n",
       " ('{\"command\": \"finfo\", \"ID\": 0, \"data\": {\"filename\": \"thisIsATest.txt\", \"isBinary\": false}}',\n",
       "  'utf-8'),\n",
       " ('size281codeutf-8;', 'utf-8'),\n",
       " ('{\"command\": \"fdata\", \"ID\": 1, \"data\": {\"filename\": \"thisIsATest.txt\", \"fileData\": {\"0\": \"yredzgtrkdszygkrdzklghfrzh\\\\nrdzhrfzdkhzdkrlhfdkzhllfkdzhfdz\\\\nhfrzdhkfdxzhldfzhfdz\\\\nhfzhfkdzhkfdzkhkdfz\\\\nhfdzjhfdjzhjfdzkhfdz\\\\nhfzdhkfdzkhkfzkhfd\\\\nzhfkzdhkfdzkhfkdz\\\\nzhfkdzhjfdzkhfkdzhjnfdz\"}}}',\n",
       "  'utf-8'),\n",
       " ('size69codeutf-8;', 'utf-8'),\n",
       " ('{\"command\": \"fend\", \"ID\": 2, \"data\": {\"filename\": \"thisIsATest.txt\"}}',\n",
       "  'utf-8'))"
      ]
     },
     "execution_count": 5,
     "metadata": {},
     "output_type": "execute_result"
    }
   ],
   "source": [
    "testHandler.getQueList()"
   ]
  },
  {
   "cell_type": "code",
   "execution_count": 12,
   "id": "8e9e1ca4-448e-4c76-88cf-15c84d751795",
   "metadata": {},
   "outputs": [
    {
     "ename": "StopIteration",
     "evalue": "False",
     "output_type": "error",
     "traceback": [
      "\u001b[1;31m---------------------------------------------------------------------------\u001b[0m",
      "\u001b[1;31mStopIteration\u001b[0m                             Traceback (most recent call last)",
      "Cell \u001b[1;32mIn[12], line 1\u001b[0m\n\u001b[1;32m----> 1\u001b[0m \u001b[38;5;28mnext\u001b[39m(testHandler\u001b[38;5;241m.\u001b[39mnextMessage())\n",
      "\u001b[1;31mStopIteration\u001b[0m: False"
     ]
    }
   ],
   "source": [
    "next(testHandler.nextMessage())"
   ]
  },
  {
   "cell_type": "code",
   "execution_count": 6,
   "id": "85827bcd-524d-49ec-b0e7-da37c0e623b7",
   "metadata": {},
   "outputs": [],
   "source": [
    "del testHandler"
   ]
  },
  {
   "cell_type": "code",
   "execution_count": null,
   "id": "871fdf96-2bc5-4cbe-bebc-6cb7c3a01918",
   "metadata": {},
   "outputs": [],
   "source": [
    "testHande"
   ]
  }
 ],
 "metadata": {
  "kernelspec": {
   "display_name": "Python 3 (ipykernel)",
   "language": "python",
   "name": "python3"
  },
  "language_info": {
   "codemirror_mode": {
    "name": "ipython",
    "version": 3
   },
   "file_extension": ".py",
   "mimetype": "text/x-python",
   "name": "python",
   "nbconvert_exporter": "python",
   "pygments_lexer": "ipython3",
   "version": "3.11.7"
  }
 },
 "nbformat": 4,
 "nbformat_minor": 5
}
