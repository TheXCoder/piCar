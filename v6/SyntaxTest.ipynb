{
 "cells": [
  {
   "cell_type": "code",
   "execution_count": 5,
   "id": "b09c7902-d659-44da-b3e6-5bff4e09c2a2",
   "metadata": {},
   "outputs": [],
   "source": [
    "import json"
   ]
  },
  {
   "cell_type": "code",
   "execution_count": 44,
   "id": "9cfa7fad-128b-4c1c-98ff-673c253c4579",
   "metadata": {},
   "outputs": [],
   "source": [
    "class GrandParent:\n",
    "    def __init__(self):\n",
    "        ...\n",
    "    def _classMethod(self):\n",
    "        print(\"grandparent version\")\n",
    "    def runMethod(self):\n",
    "        self._classMethod()\n",
    "    def __doStuffWithFunction(self, function):\n",
    "        function(10)"
   ]
  },
  {
   "cell_type": "code",
   "execution_count": 45,
   "id": "feadb599-e3e1-4a05-af1a-7089426c7b90",
   "metadata": {},
   "outputs": [],
   "source": [
    "class Parent(GrandParent):\n",
    "    def __init__(self, numberOfBeans : int = 10):\n",
    "        self._beans : float = 10\n",
    "        super(Parent, self).__init__()\n",
    "    def _classMethod(self):\n",
    "        print(\"parent version\")\n",
    "    def _beanSprout(self, power):\n",
    "        self.__beans = round(self.__beans ** (2*power/100))\n",
    "    def testDoStuffFunction(self):\n",
    "        self.__doStuffWithFunction(self._beanSprout)"
   ]
  },
  {
   "cell_type": "code",
   "execution_count": 46,
   "id": "81e2a34a-06d7-4a3a-ba65-fda488c26fae",
   "metadata": {},
   "outputs": [],
   "source": [
    "class Child(Parent):\n",
    "    def __init__(self, numberOfBeans : int = 20):\n",
    "        super(Child, self).__init__(numberOfBeans)\n",
    "    def printBeans(self):\n",
    "        print(self._beans)\n",
    "    \n",
    "        "
   ]
  },
  {
   "cell_type": "code",
   "execution_count": 47,
   "id": "c9a9ed9e-805f-4da5-88e7-98e4b6d98713",
   "metadata": {},
   "outputs": [
    {
     "name": "stdout",
     "output_type": "stream",
     "text": [
      "grandparent version\n"
     ]
    }
   ],
   "source": [
    "gTest = GrandParent()\n",
    "gTest.runMethod()"
   ]
  },
  {
   "cell_type": "code",
   "execution_count": 48,
   "id": "8f5d6461-ed93-40a9-816b-c46fbba925fc",
   "metadata": {},
   "outputs": [
    {
     "name": "stdout",
     "output_type": "stream",
     "text": [
      "parent version\n"
     ]
    }
   ],
   "source": [
    "pTest = Parent(90)\n",
    "pTest.runMethod()"
   ]
  },
  {
   "cell_type": "code",
   "execution_count": 16,
   "id": "d0cbc4b6-62cc-4884-8b29-fe00b072a498",
   "metadata": {},
   "outputs": [
    {
     "ename": "NameError",
     "evalue": "name 'json' is not defined",
     "output_type": "error",
     "traceback": [
      "\u001b[1;31m---------------------------------------------------------------------------\u001b[0m",
      "\u001b[1;31mNameError\u001b[0m                                 Traceback (most recent call last)",
      "Cell \u001b[1;32mIn[16], line 1\u001b[0m\n\u001b[1;32m----> 1\u001b[0m message \u001b[38;5;241m=\u001b[39m json\u001b[38;5;241m.\u001b[39mdumps({\u001b[38;5;124m\"\u001b[39m\u001b[38;5;124mValue\u001b[39m\u001b[38;5;124m\"\u001b[39m:\u001b[38;5;241m10\u001b[39m})\n\u001b[0;32m      2\u001b[0m \u001b[38;5;28mprint\u001b[39m(message)\n",
      "\u001b[1;31mNameError\u001b[0m: name 'json' is not defined"
     ]
    }
   ],
   "source": [
    "message = json.dumps({\"Value\":10})\n",
    "print(message)"
   ]
  },
  {
   "cell_type": "code",
   "execution_count": 17,
   "id": "027b8a3c-f547-4848-b200-703788440a3f",
   "metadata": {},
   "outputs": [],
   "source": [
    "cTest.testDoStuffFunction()"
   ]
  },
  {
   "cell_type": "code",
   "execution_count": null,
   "id": "665eed51-8ed3-4d94-b9c4-613fccdea235",
   "metadata": {},
   "outputs": [],
   "source": []
  }
 ],
 "metadata": {
  "kernelspec": {
   "display_name": "Python 3 (ipykernel)",
   "language": "python",
   "name": "python3"
  },
  "language_info": {
   "codemirror_mode": {
    "name": "ipython",
    "version": 3
   },
   "file_extension": ".py",
   "mimetype": "text/x-python",
   "name": "python",
   "nbconvert_exporter": "python",
   "pygments_lexer": "ipython3",
   "version": "3.11.7"
  }
 },
 "nbformat": 4,
 "nbformat_minor": 5
}
