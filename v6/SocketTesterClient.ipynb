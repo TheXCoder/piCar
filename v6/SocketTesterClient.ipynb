{
 "cells": [
  {
   "cell_type": "code",
   "execution_count": 1,
   "id": "d5b15bb7-57b0-4296-926b-3bac4959d3e9",
   "metadata": {},
   "outputs": [],
   "source": [
    "import socket\n",
    "from socket_helper import *\n",
    "from misc import *"
   ]
  },
  {
   "cell_type": "code",
   "execution_count": 2,
   "id": "6ee73215-4a5e-40f1-b5a4-43a7c254c7f4",
   "metadata": {},
   "outputs": [
    {
     "name": "stdout",
     "output_type": "stream",
     "text": [
      "CONSENSUALECSTASY\n",
      "CONSENSUALECSTASY.local\n",
      "Server has refused to connect. Trying again\n",
      "Connected to server\n"
     ]
    }
   ],
   "source": [
    "clientSocket = socket.socket(socket.AF_INET, socket.SOCK_STREAM)\n",
    "hostIP, *otherStuff = findDevice(\"CONSENSUALECSTASY\")\n",
    "getConnected(hostIP, clientSocket, 5050)\n",
    "testHandler = SocketHandler(clientSocket)"
   ]
  },
  {
   "cell_type": "code",
   "execution_count": 8,
   "id": "5dd0ee30-8fc0-4449-aeca-1c6956a3cf16",
   "metadata": {},
   "outputs": [
    {
     "ename": "StopIteration",
     "evalue": "False",
     "output_type": "error",
     "traceback": [
      "\u001b[1;31m---------------------------------------------------------------------------\u001b[0m",
      "\u001b[1;31mStopIteration\u001b[0m                             Traceback (most recent call last)",
      "Cell \u001b[1;32mIn[8], line 1\u001b[0m\n\u001b[1;32m----> 1\u001b[0m \u001b[38;5;28mnext\u001b[39m(testHandler\u001b[38;5;241m.\u001b[39mnextMessage())\n",
      "\u001b[1;31mStopIteration\u001b[0m: False"
     ]
    }
   ],
   "source": [
    "next(testHandler.nextMessage())"
   ]
  },
  {
   "cell_type": "code",
   "execution_count": 10,
   "id": "f5b86c51-f630-48df-8d70-886ee2acd0d1",
   "metadata": {},
   "outputs": [
    {
     "data": {
      "text/plain": [
       "{'command': 'endc', 'ID': 0}"
      ]
     },
     "execution_count": 10,
     "metadata": {},
     "output_type": "execute_result"
    }
   ],
   "source": [
    "testHandler.recv()"
   ]
  },
  {
   "cell_type": "code",
   "execution_count": 3,
   "id": "9166ccc1-090b-4a20-b3b6-8d0b7cd41027",
   "metadata": {},
   "outputs": [
    {
     "data": {
      "text/plain": [
       "True"
      ]
     },
     "execution_count": 3,
     "metadata": {},
     "output_type": "execute_result"
    }
   ],
   "source": [
    "testHandler.endCommunication(None)"
   ]
  },
  {
   "cell_type": "code",
   "execution_count": 6,
   "id": "d99ff9ff-cd97-4390-a7cf-485d65be7be5",
   "metadata": {},
   "outputs": [
    {
     "data": {
      "text/plain": [
       "(('{\"command\": \"endc\", \"ID\": 0, \"data\": null}', 'utf-8'),)"
      ]
     },
     "execution_count": 6,
     "metadata": {},
     "output_type": "execute_result"
    }
   ],
   "source": [
    "testHandler.getQueList()"
   ]
  },
  {
   "cell_type": "code",
   "execution_count": 11,
   "id": "608216b1-3072-4852-9713-c2afc4c69bd9",
   "metadata": {},
   "outputs": [
    {
     "data": {
      "text/plain": [
       "False"
      ]
     },
     "execution_count": 11,
     "metadata": {},
     "output_type": "execute_result"
    }
   ],
   "source": [
    "testHandler.isSocketValid()"
   ]
  },
  {
   "cell_type": "code",
   "execution_count": null,
   "id": "c9fb6e7e-3811-41dd-89c2-7e04bc8aa5c6",
   "metadata": {},
   "outputs": [],
   "source": [
    "del testHandler"
   ]
  },
  {
   "cell_type": "code",
   "execution_count": 9,
   "id": "9fdc0d6c-3109-4657-82b3-b7e995b37c3c",
   "metadata": {},
   "outputs": [
    {
     "ename": "AttributeError",
     "evalue": "'socket' object has no attribute 'endCommunication'",
     "output_type": "error",
     "traceback": [
      "\u001b[1;31m---------------------------------------------------------------------------\u001b[0m",
      "\u001b[1;31mAttributeError\u001b[0m                            Traceback (most recent call last)",
      "Cell \u001b[1;32mIn[9], line 1\u001b[0m\n\u001b[1;32m----> 1\u001b[0m clientSocket\u001b[38;5;241m.\u001b[39mendCommunication()\n",
      "\u001b[1;31mAttributeError\u001b[0m: 'socket' object has no attribute 'endCommunication'"
     ]
    }
   ],
   "source": [
    "clientSocket.close()"
   ]
  },
  {
   "cell_type": "code",
   "execution_count": null,
   "id": "0a2aaa71-e51f-4337-a703-2341d172ee11",
   "metadata": {},
   "outputs": [],
   "source": []
  }
 ],
 "metadata": {
  "kernelspec": {
   "display_name": "Python 3 (ipykernel)",
   "language": "python",
   "name": "python3"
  },
  "language_info": {
   "codemirror_mode": {
    "name": "ipython",
    "version": 3
   },
   "file_extension": ".py",
   "mimetype": "text/x-python",
   "name": "python",
   "nbconvert_exporter": "python",
   "pygments_lexer": "ipython3",
   "version": "3.11.7"
  }
 },
 "nbformat": 4,
 "nbformat_minor": 5
}
