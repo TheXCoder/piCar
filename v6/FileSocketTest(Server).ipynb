{
 "cells": [
  {
   "cell_type": "code",
   "execution_count": 1,
   "id": "6561e5e9-4ac7-4901-86b6-ec550fae6f00",
   "metadata": {},
   "outputs": [],
   "source": [
    "from file_socket import FileSocket\n",
    "from misc import *\n",
    "from listening_server import ListeningServer"
   ]
  },
  {
   "cell_type": "code",
   "execution_count": 2,
   "id": "bf5cb34a-eed4-481f-8cdf-8b98e34b6842",
   "metadata": {},
   "outputs": [],
   "source": [
    "newSocket = None\n",
    "with ListeningServer(5050) as listening:\n",
    "    newSocket, *otherStuff = listening.getSocket()"
   ]
  },
  {
   "cell_type": "code",
   "execution_count": 3,
   "id": "789924f7-7bed-4f2a-a0d9-b0580f02cba4",
   "metadata": {},
   "outputs": [],
   "source": [
    "testHandler = FileSocket(newSocket, \"testFolder\")\n"
   ]
  },
  {
   "cell_type": "code",
   "execution_count": 9,
   "id": "f5a53072-1a99-4bde-a750-5bcae82cc903",
   "metadata": {
    "scrolled": true
   },
   "outputs": [
    {
     "data": {
      "text/plain": [
       "{'command': None, 'ID': None}"
      ]
     },
     "execution_count": 9,
     "metadata": {},
     "output_type": "execute_result"
    }
   ],
   "source": [
    "testHandler.recv()"
   ]
  },
  {
   "cell_type": "code",
   "execution_count": null,
   "id": "852add92-4167-4330-b07e-e8485049f790",
   "metadata": {},
   "outputs": [],
   "source": []
  },
  {
   "cell_type": "code",
   "execution_count": 6,
   "id": "f422744f-1898-41ce-b229-22afc8ae4eab",
   "metadata": {},
   "outputs": [
    {
     "data": {
      "text/plain": [
       "True"
      ]
     },
     "execution_count": 6,
     "metadata": {},
     "output_type": "execute_result"
    }
   ],
   "source": [
    "testHandler.endCommunication(None)"
   ]
  }
 ],
 "metadata": {
  "kernelspec": {
   "display_name": "Python 3 (ipykernel)",
   "language": "python",
   "name": "python3"
  },
  "language_info": {
   "codemirror_mode": {
    "name": "ipython",
    "version": 3
   },
   "file_extension": ".py",
   "mimetype": "text/x-python",
   "name": "python",
   "nbconvert_exporter": "python",
   "pygments_lexer": "ipython3",
   "version": "3.11.7"
  }
 },
 "nbformat": 4,
 "nbformat_minor": 5
}
