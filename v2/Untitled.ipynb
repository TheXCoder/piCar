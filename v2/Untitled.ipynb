{
 "cells": [
  {
   "cell_type": "code",
   "execution_count": 1,
   "id": "5984e246-75c4-4719-abf7-67aa5a9f0617",
   "metadata": {},
   "outputs": [],
   "source": [
    "from MyMessage import *\n",
    "import time, socket"
   ]
  },
  {
   "cell_type": "markdown",
   "id": "837c4e72-a864-4b50-bb67-90a3964e12c8",
   "metadata": {},
   "source": [
    "# ClientSide"
   ]
  },
  {
   "cell_type": "code",
   "execution_count": 2,
   "id": "8b9ad840-e113-42ef-9457-8f0430c30bd0",
   "metadata": {},
   "outputs": [],
   "source": [
    "def findHost(serverName:str, numberIntervals : int = 5, intervalWaitTime : float = 1, isLocal : bool = True)->str:\n",
    "    serverIP : str= None\n",
    "    for _ in range(numberIntervals):\n",
    "        if _ == numberIntervals -1:\n",
    "            print(\"Last try before giving up\")\n",
    "        try:\n",
    "            serverIP = None\n",
    "            if isLocal:\n",
    "                serverIP = socket.gethostbyname(serverName + '.local')\n",
    "            else:\n",
    "                serverIP = socket.gethostbyname(serverName)\n",
    "            print(f\"{serverName} has been found at {serverIP}\")\n",
    "            return serverIP\n",
    "            \n",
    "        except socket.gaierror:\n",
    "            print(f\"{serverName} has not been found. Waiting {intervalWaitTime} seconds before retrying.\")\n",
    "            time.sleep(intervalWaitTime)\n",
    "    return serverIP"
   ]
  },
  {
   "cell_type": "code",
   "execution_count": 3,
   "id": "58b5d32d-d3bc-4b13-95fe-cb8d66fb8883",
   "metadata": {},
   "outputs": [],
   "source": [
    "def getConnected(serverIP : str, clientsocket,  port : int = 5050, numberIntervals : int = 5,  intervalWaitTime : float = 1):\n",
    "    for _ in range(numberIntervals):\n",
    "        if _ == numberIntervals -1:\n",
    "            print(\"Last try before giving up\")\n",
    "        else:\n",
    "            print(\"Server has refused to connect. Trying again\")\n",
    "        try:\n",
    "            clientsocket.connect((serverIP,5050))\n",
    "            print(\"Connected to server\")\n",
    "            return clientsocket\n",
    "        except ConnectionRefusedError:\n",
    "            time.sleep(intervalWaitTime)\n",
    "            \n",
    "    print(\"System has failed to connect with the server.\")\n",
    "    return None"
   ]
  },
  {
   "cell_type": "code",
   "execution_count": 4,
   "id": "9c922fb1-9638-4072-ad20-3035af908fea",
   "metadata": {},
   "outputs": [],
   "source": [
    "class ClientSocket:\n",
    "    def __init__(self, server_NameOrIP : str, portToConnectTo : int = 5050, isLocal : bool = True):\n",
    "        self.__socket = socket.socket(socket.AF_INET, socket.SOCK_STREAM)\n",
    "        self.__port = 5050\n",
    "        self.__clientMessager = MyMessage({\"endc\":self.__closeSocket})\n",
    "        self.__serverName : str = \"\"\n",
    "        self.__serverIP : str = \"\"\n",
    "        self.__findServer(server_NameOrIP, isLocal)\n",
    "        if getConnected(self.__serverIP, self.__socket, self.__port , 5, 0.5) is None:\n",
    "            raise ConnectionRefusedError()\n",
    "\n",
    "    def __del__(self):\n",
    "        self.endCommunication()\n",
    "        \n",
    "    def __findServer(self, server_NameOrIP : str, isLocal : bool):\n",
    "        if server_NameOrIP[0].isdigit():\n",
    "            self.__serverName = socket.gethostbyaddr(clientAddress)\n",
    "            self.__serverIP = server_NameOrIP\n",
    "        else:\n",
    "            self.__serverName = server_NameOrIP\n",
    "            self.__serverIP = findHost(server_NameOrIP, 5, 0.5, isLocal)\n",
    "            if self.__serverIP == None:\n",
    "                raise ConnectionRefusedError()\n",
    "\n",
    "    def __closeSocket(self, data):\n",
    "        pass\n",
    "\n",
    "#----------------------------------------------------------\n",
    "    def endCommunication(self):\n",
    "        self.__clientMessager.command(\"endc\", None)\n",
    "        for message, encoding in self.__clientMessager.nextMessage():\n",
    "            self.__socket.send(message.encode(encoding))\n",
    "\n",
    "    def echo(self, message : str):\n",
    "        self.__clientMessager.echo(message)\n",
    "        for message, encoding in self.__clientMessager.nextMessage():\n",
    "            self.__socket.send(sendMessage.encode(encoding))\n",
    "\n",
    "    def queCommand(self, command : str, data):\n",
    "        self.__clientMessager.command(command, data) \n",
    "        \n",
    "    def sendNext(self):\n",
    "        try:\n",
    "            message, encoding = next(self.__serverMessager.nextMessage())\n",
    "            self.__serverSocket.send(message.encode(encoding))\n",
    "            return True\n",
    "        except StopIteration:\n",
    "            return False\n",
    "\n",
    "    def recv(self):\n",
    "        messageSize, encoding = next(self.__clientMessager.nextMessage())\n",
    "        recievedMessage = self.__socket.recv(messageSize).decode(encoding)\n",
    "        print(recievedMessage)\n",
    "        return self.__clientMessager.recv(recievedMessage, messageEncoding)\n",
    "        \n",
    "        \n",
    "        \n",
    "        "
   ]
  },
  {
   "cell_type": "code",
   "execution_count": 5,
   "id": "75f42caa-2579-4889-adb5-3a8fac74e38a",
   "metadata": {},
   "outputs": [],
   "source": [
    "def startClient(serverName : str, port =5050):\n",
    "    client = socket.socket(socket.AF_INET, socket.SOCK_STREAM)\n",
    "    clientMessager = MyMessage()\n",
    "    serverIP = findLocalHost(serverName,intervalWaitTime=0.5)\n",
    "    if serverIP == None:\n",
    "        return None\n",
    "    toServer = getConnected(serverIP, client, port)\n",
    "    if toServer == None:\n",
    "        return None\n",
    "    clientMessager.echo(\"Hello World\")\n",
    "    clientMessager.command(\"endT\", None)\n",
    "    sendMessage, encoding = next(clientMessager.nextMessage())\n",
    "    print(f\"message being sent is {sendMessage}\")\n",
    "    toServer.send(sendMessage.encode(encoding))\n",
    "    "
   ]
  },
  {
   "cell_type": "markdown",
   "id": "1c585379-755b-44ea-931b-7e9f2ed3eec0",
   "metadata": {},
   "source": [
    "# ServerSide"
   ]
  },
  {
   "cell_type": "code",
   "execution_count": 6,
   "id": "97aa387e-dc22-4ded-a5db-1348e95a1318",
   "metadata": {},
   "outputs": [],
   "source": [
    "class ListeningServer:\n",
    "    def __init__(self, port : int, amountOfClients : int = 1): #amount of clients can be connected to the listening server at once\n",
    "        \n",
    "        self.__listeningPort : int = port\n",
    "        self.__hostname : int = socket.gethostname()\n",
    "        self.__hostIP : int = socket.gethostbyname(self.__hostname)\n",
    "        \n",
    "        self.__listeningSocket = socket.socket(socket.AF_INET, socket.SOCK_STREAM)\n",
    "        self.__listeningSocket.bind((self.__hostIP, self.__listeningPort))\n",
    "        self.__listeningSocket.listen(amountOfClients)\n",
    "\n",
    "    def __del__(self):\n",
    "        self.__listeningSocket.close()\n",
    "    \n",
    "    def getSocket(self) -> dict:\n",
    "        communicationSocket, clientAddress = self.__listeningSocket.accept() #becuase client address and port is a tuple? ¯\\_(ツ)_/¯\n",
    "        clientAddress, clientPort = clientAddress\n",
    "        \n",
    "        clientName = socket.gethostbyaddr(clientAddress)\n",
    "        return communicationSocket, {\"client name\":clientName, \"client address\": clientAddress, \"client port\":clientPort}"
   ]
  },
  {
   "cell_type": "code",
   "execution_count": 20,
   "id": "4d0761c5-31ea-4274-a656-04a475e4ef02",
   "metadata": {},
   "outputs": [],
   "source": [
    "class HostingServer:\n",
    "    def __init__(self, hostingSocket, clientInfo : dict = {}):\n",
    "        self.__serverSocket = hostingSocket\n",
    "        self.__clientInfo : dict = clientInfo\n",
    "        self.__serverMessager = MyMessage({\"endc\":self.__closeSocket})\n",
    "    \n",
    "    def __del__(self):\n",
    "        self.endCommunication()\n",
    "        self.__serverSocket.close()\n",
    "        self.__clientInfo = None\n",
    "\n",
    "    def __closeSocket(self, data):\n",
    "        self.__serverSocket.close()\n",
    "        self.__serverSocket = None\n",
    "        self.__clientInfo = None\n",
    "        return True, None\n",
    "#--------------------------------------------------------\n",
    "    def endCommunication(self):\n",
    "        self.__serverMessager.command(\"endc\", None)\n",
    "        for message, encoding in self.__serverMessager.nextMessage():\n",
    "            self.__serverSocket.send(message.encode(encoding))\n",
    "        \n",
    "        self.__closeSocket(None)\n",
    "\n",
    "    def echo(self, message : str):\n",
    "        self.__serverMessager.echo(message)\n",
    "\n",
    "    def queCommand(self, command : str, data):\n",
    "        self.__serverMessager.command(command, data)\n",
    "        \n",
    "    def sendNext(self):\n",
    "        try:\n",
    "            message, encoding = next(self.__serverMessager.nextMessage())\n",
    "            self.__serverSocket.send(message.encode(encoding))\n",
    "            return True\n",
    "        except StopIteration:\n",
    "            return False\n",
    "        \n",
    "    def recv(self):\n",
    "        if self.__serverSocket is None:\n",
    "            raise TypeError()\n",
    "            return None\n",
    "        messageSize, messageEncoding = self.__serverMessager.nextMessageFormat()\n",
    "        recievedMessage = self.__serverSocket.recv(messageSize).decode(messageEncoding)\n",
    "        print(recievedMessage)\n",
    "        return self.__serverMessager.recv(recievedMessage, messageEncoding)\n",
    "    "
   ]
  },
  {
   "cell_type": "code",
   "execution_count": 8,
   "id": "62b57539-af1b-4f48-bb71-13e3cafc718b",
   "metadata": {},
   "outputs": [],
   "source": [
    "def getServerInfo():\n",
    "    return {\"hostname\" : socket.gethostname(), \"hostIP\" : socket.gethostbyname(socket.gethostname())}"
   ]
  },
  {
   "cell_type": "code",
   "execution_count": 9,
   "id": "e6bf083c-abff-4c15-bcb5-44f82d533ac8",
   "metadata": {},
   "outputs": [],
   "source": [
    "def startServer(port : int = 5050):\n",
    "    serverInfo = getServerInfo\n",
    "    serverBeginingTime = time.time()\n",
    "    \n",
    "    \n",
    "    server = socket.socket(socket.AF_INET, socket.SOCK_STREAM)\n",
    "    server.bind((hostIP,port))\n",
    "    server.listen(5)\n",
    "    while True:\n",
    "        communication_socket, clientAddress = server.accept()\n",
    "        clientname = socket.gethostbyaddr(clientAddress)[0]\n",
    "        print(f\"{clientname} @ {clientAddress} connected\")\n",
    "        server.close()\n",
    "    "
   ]
  },
  {
   "cell_type": "code",
   "execution_count": 10,
   "id": "3fdb10ab-7f06-4e3c-96c1-a561b3a8ab71",
   "metadata": {},
   "outputs": [],
   "source": [
    "def closeConnection(data = None):\n",
    "    pass"
   ]
  },
  {
   "cell_type": "code",
   "execution_count": 11,
   "id": "6d5aee6a-80a7-4370-8f01-faf22762d7e4",
   "metadata": {},
   "outputs": [],
   "source": [
    "eventFunctions = {\"endC\":closeConnection} #sends close connection message"
   ]
  },
  {
   "cell_type": "markdown",
   "id": "4c79a4e7-af52-48dd-9d37-cece22dac359",
   "metadata": {},
   "source": [
    "# EventFunctions"
   ]
  },
  {
   "cell_type": "code",
   "execution_count": null,
   "id": "90f51e82-1b4c-4f04-a153-9ce79aa4050c",
   "metadata": {},
   "outputs": [],
   "source": []
  },
  {
   "cell_type": "markdown",
   "id": "582d3fa5-c654-4f2a-8e62-ef392d99f7fb",
   "metadata": {},
   "source": [
    "# Testing"
   ]
  },
  {
   "cell_type": "code",
   "execution_count": 21,
   "id": "aba7caa8-e966-4198-b615-98181cdaa15a",
   "metadata": {},
   "outputs": [
    {
     "name": "stdout",
     "output_type": "stream",
     "text": [
      "ConsensualEcstasy has been found at 192.168.56.1\n",
      "Server has refused to connect. Trying again\n",
      "Connected to server\n"
     ]
    }
   ],
   "source": [
    "test = ClientSocket(socket.gethostname())"
   ]
  },
  {
   "cell_type": "code",
   "execution_count": 22,
   "id": "8e5e173e-3c47-4f4e-b771-7886d8a3a8cb",
   "metadata": {},
   "outputs": [],
   "source": [
    "test.endCommunication()"
   ]
  },
  {
   "cell_type": "code",
   "execution_count": null,
   "id": "9a4f8ff9-1787-4659-8dc7-cfb97f0db099",
   "metadata": {},
   "outputs": [],
   "source": []
  }
 ],
 "metadata": {
  "kernelspec": {
   "display_name": "Python 3 (ipykernel)",
   "language": "python",
   "name": "python3"
  },
  "language_info": {
   "codemirror_mode": {
    "name": "ipython",
    "version": 3
   },
   "file_extension": ".py",
   "mimetype": "text/x-python",
   "name": "python",
   "nbconvert_exporter": "python",
   "pygments_lexer": "ipython3",
   "version": "3.11.7"
  }
 },
 "nbformat": 4,
 "nbformat_minor": 5
}
